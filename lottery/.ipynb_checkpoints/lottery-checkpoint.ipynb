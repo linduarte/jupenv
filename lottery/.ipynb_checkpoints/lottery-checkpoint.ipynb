{
 "cells": [
  {
   "cell_type": "code",
   "execution_count": 1,
   "id": "1ad07222",
   "metadata": {
    "ExecuteTime": {
     "end_time": "2022-07-25T20:57:59.273166Z",
     "start_time": "2022-07-25T20:57:36.731819Z"
    }
   },
   "outputs": [
    {
     "name": "stdout",
     "output_type": "stream",
     "text": [
      "2022-07-25 17:57:59.268135\n"
     ]
    }
   ],
   "source": [
    "import random\n",
    "import pandas as pd\n",
    "from datetime import datetime\n",
    "print(datetime.now())"
   ]
  },
  {
   "cell_type": "code",
   "execution_count": 5,
   "id": "3fcf31cd",
   "metadata": {
    "ExecuteTime": {
     "end_time": "2022-07-25T20:59:15.167553Z",
     "start_time": "2022-07-25T20:59:15.148807Z"
    }
   },
   "outputs": [],
   "source": [
    "def lottery(iterations, lotteries=[]):\n",
    "    for i in range(0, iterations):\n",
    "\t    winners = [random.randint(1, 80) for i in range(0, 6)]\n",
    "\t    if len(set(winners)) > 5:\n",
    "\t        lotteries.append(sorted(winners))\n",
    "    return lotteries\t"
   ]
  },
  {
   "cell_type": "code",
   "execution_count": 6,
   "id": "b0629ae7",
   "metadata": {
    "ExecuteTime": {
     "end_time": "2022-07-25T20:59:28.111303Z",
     "start_time": "2022-07-25T20:59:24.981909Z"
    }
   },
   "outputs": [],
   "source": [
    "selections=lottery(iterations=1000000)"
   ]
  },
  {
   "cell_type": "code",
   "execution_count": 7,
   "id": "5ddd2b45",
   "metadata": {
    "ExecuteTime": {
     "end_time": "2022-07-25T20:59:31.906106Z",
     "start_time": "2022-07-25T20:59:31.870931Z"
    },
    "scrolled": true
   },
   "outputs": [
    {
     "ename": "ValueError",
     "evalue": "a must be greater than 0 unless no samples are taken",
     "output_type": "error",
     "traceback": [
      "\u001b[1;31m---------------------------------------------------------------------------\u001b[0m",
      "\u001b[1;31mValueError\u001b[0m                                Traceback (most recent call last)",
      "Input \u001b[1;32mIn [7]\u001b[0m, in \u001b[0;36m<cell line: 4>\u001b[1;34m()\u001b[0m\n\u001b[0;32m      2\u001b[0m df\u001b[38;5;241m.\u001b[39mdrop_duplicates(inplace\u001b[38;5;241m=\u001b[39m\u001b[38;5;28;01mTrue\u001b[39;00m)\n\u001b[0;32m      3\u001b[0m df\u001b[38;5;241m.\u001b[39mreset_index(drop\u001b[38;5;241m=\u001b[39m\u001b[38;5;28;01mTrue\u001b[39;00m, inplace\u001b[38;5;241m=\u001b[39m\u001b[38;5;28;01mTrue\u001b[39;00m)\n\u001b[1;32m----> 4\u001b[0m winning_numbers_hoppefully\u001b[38;5;241m=\u001b[39m\u001b[43mdf\u001b[49m\u001b[38;5;241;43m.\u001b[39;49m\u001b[43msample\u001b[49m\u001b[43m(\u001b[49m\u001b[38;5;241;43m3\u001b[39;49m\u001b[43m)\u001b[49m\n\u001b[0;32m      5\u001b[0m winning_numbers_hoppefully\n",
      "File \u001b[1;32m~\\AppData\\Roaming\\Python\\Python310\\site-packages\\pandas\\core\\generic.py:5446\u001b[0m, in \u001b[0;36mNDFrame.sample\u001b[1;34m(self, n, frac, replace, weights, random_state, axis, ignore_index)\u001b[0m\n\u001b[0;32m   5443\u001b[0m \u001b[38;5;28;01mif\u001b[39;00m weights \u001b[38;5;129;01mis\u001b[39;00m \u001b[38;5;129;01mnot\u001b[39;00m \u001b[38;5;28;01mNone\u001b[39;00m:\n\u001b[0;32m   5444\u001b[0m     weights \u001b[38;5;241m=\u001b[39m sample\u001b[38;5;241m.\u001b[39mpreprocess_weights(\u001b[38;5;28mself\u001b[39m, weights, axis)\n\u001b[1;32m-> 5446\u001b[0m sampled_indices \u001b[38;5;241m=\u001b[39m \u001b[43msample\u001b[49m\u001b[38;5;241;43m.\u001b[39;49m\u001b[43msample\u001b[49m\u001b[43m(\u001b[49m\u001b[43mobj_len\u001b[49m\u001b[43m,\u001b[49m\u001b[43m \u001b[49m\u001b[43msize\u001b[49m\u001b[43m,\u001b[49m\u001b[43m \u001b[49m\u001b[43mreplace\u001b[49m\u001b[43m,\u001b[49m\u001b[43m \u001b[49m\u001b[43mweights\u001b[49m\u001b[43m,\u001b[49m\u001b[43m \u001b[49m\u001b[43mrs\u001b[49m\u001b[43m)\u001b[49m\n\u001b[0;32m   5447\u001b[0m result \u001b[38;5;241m=\u001b[39m \u001b[38;5;28mself\u001b[39m\u001b[38;5;241m.\u001b[39mtake(sampled_indices, axis\u001b[38;5;241m=\u001b[39maxis)\n\u001b[0;32m   5449\u001b[0m \u001b[38;5;28;01mif\u001b[39;00m ignore_index:\n",
      "File \u001b[1;32m~\\AppData\\Roaming\\Python\\Python310\\site-packages\\pandas\\core\\sample.py:150\u001b[0m, in \u001b[0;36msample\u001b[1;34m(obj_len, size, replace, weights, random_state)\u001b[0m\n\u001b[0;32m    147\u001b[0m     \u001b[38;5;28;01melse\u001b[39;00m:\n\u001b[0;32m    148\u001b[0m         \u001b[38;5;28;01mraise\u001b[39;00m \u001b[38;5;167;01mValueError\u001b[39;00m(\u001b[38;5;124m\"\u001b[39m\u001b[38;5;124mInvalid weights: weights sum to zero\u001b[39m\u001b[38;5;124m\"\u001b[39m)\n\u001b[1;32m--> 150\u001b[0m \u001b[38;5;28;01mreturn\u001b[39;00m \u001b[43mrandom_state\u001b[49m\u001b[38;5;241;43m.\u001b[39;49m\u001b[43mchoice\u001b[49m\u001b[43m(\u001b[49m\u001b[43mobj_len\u001b[49m\u001b[43m,\u001b[49m\u001b[43m \u001b[49m\u001b[43msize\u001b[49m\u001b[38;5;241;43m=\u001b[39;49m\u001b[43msize\u001b[49m\u001b[43m,\u001b[49m\u001b[43m \u001b[49m\u001b[43mreplace\u001b[49m\u001b[38;5;241;43m=\u001b[39;49m\u001b[43mreplace\u001b[49m\u001b[43m,\u001b[49m\u001b[43m \u001b[49m\u001b[43mp\u001b[49m\u001b[38;5;241;43m=\u001b[39;49m\u001b[43mweights\u001b[49m\u001b[43m)\u001b[49m\u001b[38;5;241m.\u001b[39mastype(\n\u001b[0;32m    151\u001b[0m     np\u001b[38;5;241m.\u001b[39mintp, copy\u001b[38;5;241m=\u001b[39m\u001b[38;5;28;01mFalse\u001b[39;00m\n\u001b[0;32m    152\u001b[0m )\n",
      "File \u001b[1;32mmtrand.pyx:909\u001b[0m, in \u001b[0;36mnumpy.random.mtrand.RandomState.choice\u001b[1;34m()\u001b[0m\n",
      "\u001b[1;31mValueError\u001b[0m: a must be greater than 0 unless no samples are taken"
     ]
    }
   ],
   "source": [
    "df=pd.DataFrame(selections)\n",
    "df.drop_duplicates(inplace=True)\n",
    "df.reset_index(drop=True, inplace=True)\n",
    "winning_numbers_hoppefully=df.sample(3)\n",
    "winning_numbers_hoppefully"
   ]
  },
  {
   "cell_type": "code",
   "execution_count": 5,
   "id": "64421f95",
   "metadata": {
    "ExecuteTime": {
     "end_time": "2022-07-13T13:15:13.876622Z",
     "start_time": "2022-07-13T13:15:11.778684Z"
    }
   },
   "outputs": [
    {
     "name": "stdout",
     "output_type": "stream",
     "text": [
      "Requirement already satisfied: jupyterthemes in c:\\users\\clldu\\appdata\\local\\programs\\python\\python310\\lib\\site-packages (0.20.0)\n",
      "Requirement already satisfied: matplotlib>=1.4.3 in c:\\users\\clldu\\appdata\\local\\programs\\python\\python310\\lib\\site-packages (from jupyterthemes) (3.5.2)\n",
      "Requirement already satisfied: notebook>=5.6.0 in c:\\users\\clldu\\appdata\\local\\programs\\python\\python310\\lib\\site-packages (from jupyterthemes) (6.4.12)\n",
      "Requirement already satisfied: ipython>=5.4.1 in c:\\users\\clldu\\appdata\\local\\programs\\python\\python310\\lib\\site-packages (from jupyterthemes) (8.4.0)\n",
      "Requirement already satisfied: jupyter-core in c:\\users\\clldu\\appdata\\local\\programs\\python\\python310\\lib\\site-packages (from jupyterthemes) (4.10.0)\n",
      "Requirement already satisfied: lesscpy>=0.11.2 in c:\\users\\clldu\\appdata\\local\\programs\\python\\python310\\lib\\site-packages (from jupyterthemes) (0.15.0)\n",
      "Requirement already satisfied: colorama in c:\\users\\clldu\\appdata\\local\\programs\\python\\python310\\lib\\site-packages (from ipython>=5.4.1->jupyterthemes) (0.4.5)\n",
      "Requirement already satisfied: pygments>=2.4.0 in c:\\users\\clldu\\appdata\\local\\programs\\python\\python310\\lib\\site-packages (from ipython>=5.4.1->jupyterthemes) (2.12.0)\n",
      "Requirement already satisfied: prompt-toolkit!=3.0.0,!=3.0.1,<3.1.0,>=2.0.0 in c:\\users\\clldu\\appdata\\local\\programs\\python\\python310\\lib\\site-packages (from ipython>=5.4.1->jupyterthemes) (3.0.30)\n",
      "Requirement already satisfied: backcall in c:\\users\\clldu\\appdata\\local\\programs\\python\\python310\\lib\\site-packages (from ipython>=5.4.1->jupyterthemes) (0.2.0)\n",
      "Requirement already satisfied: decorator in c:\\users\\clldu\\appdata\\local\\programs\\python\\python310\\lib\\site-packages (from ipython>=5.4.1->jupyterthemes) (5.1.1)\n",
      "Requirement already satisfied: jedi>=0.16 in c:\\users\\clldu\\appdata\\local\\programs\\python\\python310\\lib\\site-packages (from ipython>=5.4.1->jupyterthemes) (0.18.1)\n",
      "Requirement already satisfied: matplotlib-inline in c:\\users\\clldu\\appdata\\local\\programs\\python\\python310\\lib\\site-packages (from ipython>=5.4.1->jupyterthemes) (0.1.3)\n",
      "Requirement already satisfied: setuptools>=18.5 in c:\\users\\clldu\\appdata\\roaming\\python\\python310\\site-packages (from ipython>=5.4.1->jupyterthemes) (62.6.0)\n",
      "Requirement already satisfied: pickleshare in c:\\users\\clldu\\appdata\\local\\programs\\python\\python310\\lib\\site-packages (from ipython>=5.4.1->jupyterthemes) (0.7.5)\n",
      "Requirement already satisfied: stack-data in c:\\users\\clldu\\appdata\\local\\programs\\python\\python310\\lib\\site-packages (from ipython>=5.4.1->jupyterthemes) (0.3.0)\n",
      "Requirement already satisfied: traitlets>=5 in c:\\users\\clldu\\appdata\\local\\programs\\python\\python310\\lib\\site-packages (from ipython>=5.4.1->jupyterthemes) (5.3.0)\n",
      "Requirement already satisfied: ply in c:\\users\\clldu\\appdata\\local\\programs\\python\\python310\\lib\\site-packages (from lesscpy>=0.11.2->jupyterthemes) (3.11)\n",
      "Requirement already satisfied: six in c:\\users\\clldu\\appdata\\local\\programs\\python\\python310\\lib\\site-packages (from lesscpy>=0.11.2->jupyterthemes) (1.16.0)\n",
      "Requirement already satisfied: cycler>=0.10 in c:\\users\\clldu\\appdata\\local\\programs\\python\\python310\\lib\\site-packages (from matplotlib>=1.4.3->jupyterthemes) (0.11.0)\n",
      "Requirement already satisfied: python-dateutil>=2.7 in c:\\users\\clldu\\appdata\\local\\programs\\python\\python310\\lib\\site-packages (from matplotlib>=1.4.3->jupyterthemes) (2.8.2)\n",
      "Requirement already satisfied: pyparsing>=2.2.1 in c:\\users\\clldu\\appdata\\local\\programs\\python\\python310\\lib\\site-packages (from matplotlib>=1.4.3->jupyterthemes) (3.0.9)\n",
      "Requirement already satisfied: packaging>=20.0 in c:\\users\\clldu\\appdata\\local\\programs\\python\\python310\\lib\\site-packages (from matplotlib>=1.4.3->jupyterthemes) (21.3)\n",
      "Requirement already satisfied: fonttools>=4.22.0 in c:\\users\\clldu\\appdata\\local\\programs\\python\\python310\\lib\\site-packages (from matplotlib>=1.4.3->jupyterthemes) (4.33.3)\n",
      "Requirement already satisfied: numpy>=1.17 in c:\\users\\clldu\\appdata\\roaming\\python\\python310\\site-packages (from matplotlib>=1.4.3->jupyterthemes) (1.23.0)\n",
      "Requirement already satisfied: pillow>=6.2.0 in c:\\users\\clldu\\appdata\\local\\programs\\python\\python310\\lib\\site-packages (from matplotlib>=1.4.3->jupyterthemes) (9.1.1)\n",
      "Requirement already satisfied: kiwisolver>=1.0.1 in c:\\users\\clldu\\appdata\\local\\programs\\python\\python310\\lib\\site-packages (from matplotlib>=1.4.3->jupyterthemes) (1.4.3)\n",
      "Requirement already satisfied: nbformat in c:\\users\\clldu\\appdata\\local\\programs\\python\\python310\\lib\\site-packages (from notebook>=5.6.0->jupyterthemes) (5.4.0)\n",
      "Requirement already satisfied: prometheus-client in c:\\users\\clldu\\appdata\\local\\programs\\python\\python310\\lib\\site-packages (from notebook>=5.6.0->jupyterthemes) (0.14.1)\n",
      "Requirement already satisfied: ipython-genutils in c:\\users\\clldu\\appdata\\local\\programs\\python\\python310\\lib\\site-packages (from notebook>=5.6.0->jupyterthemes) (0.2.0)\n",
      "Requirement already satisfied: argon2-cffi in c:\\users\\clldu\\appdata\\local\\programs\\python\\python310\\lib\\site-packages (from notebook>=5.6.0->jupyterthemes) (21.3.0)\n",
      "Requirement already satisfied: Send2Trash>=1.8.0 in c:\\users\\clldu\\appdata\\local\\programs\\python\\python310\\lib\\site-packages (from notebook>=5.6.0->jupyterthemes) (1.8.0)\n",
      "Requirement already satisfied: ipykernel in c:\\users\\clldu\\appdata\\local\\programs\\python\\python310\\lib\\site-packages (from notebook>=5.6.0->jupyterthemes) (6.15.0)\n",
      "Requirement already satisfied: pyzmq>=17 in c:\\users\\clldu\\appdata\\local\\programs\\python\\python310\\lib\\site-packages (from notebook>=5.6.0->jupyterthemes) (23.2.0)\n",
      "Requirement already satisfied: terminado>=0.8.3 in c:\\users\\clldu\\appdata\\local\\programs\\python\\python310\\lib\\site-packages (from notebook>=5.6.0->jupyterthemes) (0.15.0)\n",
      "Requirement already satisfied: jupyter-client>=5.3.4 in c:\\users\\clldu\\appdata\\local\\programs\\python\\python310\\lib\\site-packages (from notebook>=5.6.0->jupyterthemes) (7.3.4)\n",
      "Requirement already satisfied: nest-asyncio>=1.5 in c:\\users\\clldu\\appdata\\local\\programs\\python\\python310\\lib\\site-packages (from notebook>=5.6.0->jupyterthemes) (1.5.5)\n",
      "Requirement already satisfied: nbconvert>=5 in c:\\users\\clldu\\appdata\\local\\programs\\python\\python310\\lib\\site-packages (from notebook>=5.6.0->jupyterthemes) (6.5.0)\n",
      "Requirement already satisfied: jinja2 in c:\\users\\clldu\\appdata\\local\\programs\\python\\python310\\lib\\site-packages (from notebook>=5.6.0->jupyterthemes) (3.1.2)\n",
      "Requirement already satisfied: tornado>=6.1 in c:\\users\\clldu\\appdata\\local\\programs\\python\\python310\\lib\\site-packages (from notebook>=5.6.0->jupyterthemes) (6.1)\n",
      "Requirement already satisfied: pywin32>=1.0 in c:\\users\\clldu\\appdata\\local\\programs\\python\\python310\\lib\\site-packages (from jupyter-core->jupyterthemes) (304)\n",
      "Requirement already satisfied: parso<0.9.0,>=0.8.0 in c:\\users\\clldu\\appdata\\local\\programs\\python\\python310\\lib\\site-packages (from jedi>=0.16->ipython>=5.4.1->jupyterthemes) (0.8.3)\n",
      "Requirement already satisfied: entrypoints in c:\\users\\clldu\\appdata\\local\\programs\\python\\python310\\lib\\site-packages (from jupyter-client>=5.3.4->notebook>=5.6.0->jupyterthemes) (0.4)\n",
      "Requirement already satisfied: beautifulsoup4 in c:\\users\\clldu\\appdata\\local\\programs\\python\\python310\\lib\\site-packages (from nbconvert>=5->notebook>=5.6.0->jupyterthemes) (4.11.1)\n",
      "Requirement already satisfied: bleach in c:\\users\\clldu\\appdata\\roaming\\python\\python310\\site-packages (from nbconvert>=5->notebook>=5.6.0->jupyterthemes) (5.0.1)\n",
      "Requirement already satisfied: tinycss2 in c:\\users\\clldu\\appdata\\local\\programs\\python\\python310\\lib\\site-packages (from nbconvert>=5->notebook>=5.6.0->jupyterthemes) (1.1.1)\n",
      "Requirement already satisfied: defusedxml in c:\\users\\clldu\\appdata\\local\\programs\\python\\python310\\lib\\site-packages (from nbconvert>=5->notebook>=5.6.0->jupyterthemes) (0.7.1)\n",
      "Requirement already satisfied: nbclient>=0.5.0 in c:\\users\\clldu\\appdata\\local\\programs\\python\\python310\\lib\\site-packages (from nbconvert>=5->notebook>=5.6.0->jupyterthemes) (0.6.4)\n",
      "Requirement already satisfied: MarkupSafe>=2.0 in c:\\users\\clldu\\appdata\\local\\programs\\python\\python310\\lib\\site-packages (from nbconvert>=5->notebook>=5.6.0->jupyterthemes) (2.1.1)\n",
      "Requirement already satisfied: jupyterlab-pygments in c:\\users\\clldu\\appdata\\local\\programs\\python\\python310\\lib\\site-packages (from nbconvert>=5->notebook>=5.6.0->jupyterthemes) (0.2.2)\n",
      "Requirement already satisfied: mistune<2,>=0.8.1 in c:\\users\\clldu\\appdata\\local\\programs\\python\\python310\\lib\\site-packages (from nbconvert>=5->notebook>=5.6.0->jupyterthemes) (0.8.4)\n",
      "Requirement already satisfied: pandocfilters>=1.4.1 in c:\\users\\clldu\\appdata\\local\\programs\\python\\python310\\lib\\site-packages (from nbconvert>=5->notebook>=5.6.0->jupyterthemes) (1.5.0)\n",
      "Requirement already satisfied: jsonschema>=2.6 in c:\\users\\clldu\\appdata\\local\\programs\\python\\python310\\lib\\site-packages (from nbformat->notebook>=5.6.0->jupyterthemes) (4.6.1)\n",
      "Requirement already satisfied: fastjsonschema in c:\\users\\clldu\\appdata\\local\\programs\\python\\python310\\lib\\site-packages (from nbformat->notebook>=5.6.0->jupyterthemes) (2.15.3)\n",
      "Requirement already satisfied: wcwidth in c:\\users\\clldu\\appdata\\local\\programs\\python\\python310\\lib\\site-packages (from prompt-toolkit!=3.0.0,!=3.0.1,<3.1.0,>=2.0.0->ipython>=5.4.1->jupyterthemes) (0.2.5)\n",
      "Requirement already satisfied: pywinpty>=1.1.0 in c:\\users\\clldu\\appdata\\local\\programs\\python\\python310\\lib\\site-packages (from terminado>=0.8.3->notebook>=5.6.0->jupyterthemes) (2.0.5)\n",
      "Requirement already satisfied: argon2-cffi-bindings in c:\\users\\clldu\\appdata\\local\\programs\\python\\python310\\lib\\site-packages (from argon2-cffi->notebook>=5.6.0->jupyterthemes) (21.2.0)\n",
      "Requirement already satisfied: psutil in c:\\users\\clldu\\appdata\\local\\programs\\python\\python310\\lib\\site-packages (from ipykernel->notebook>=5.6.0->jupyterthemes) (5.9.1)\n",
      "Requirement already satisfied: debugpy>=1.0 in c:\\users\\clldu\\appdata\\local\\programs\\python\\python310\\lib\\site-packages (from ipykernel->notebook>=5.6.0->jupyterthemes) (1.6.0)\n",
      "Requirement already satisfied: asttokens in c:\\users\\clldu\\appdata\\local\\programs\\python\\python310\\lib\\site-packages (from stack-data->ipython>=5.4.1->jupyterthemes) (2.0.5)\n",
      "Requirement already satisfied: executing in c:\\users\\clldu\\appdata\\local\\programs\\python\\python310\\lib\\site-packages (from stack-data->ipython>=5.4.1->jupyterthemes) (0.8.3)\n",
      "Requirement already satisfied: pure-eval in c:\\users\\clldu\\appdata\\local\\programs\\python\\python310\\lib\\site-packages (from stack-data->ipython>=5.4.1->jupyterthemes) (0.2.2)\n",
      "Requirement already satisfied: pyrsistent!=0.17.0,!=0.17.1,!=0.17.2,>=0.14.0 in c:\\users\\clldu\\appdata\\local\\programs\\python\\python310\\lib\\site-packages (from jsonschema>=2.6->nbformat->notebook>=5.6.0->jupyterthemes) (0.18.1)\n",
      "Requirement already satisfied: attrs>=17.4.0 in c:\\users\\clldu\\appdata\\local\\programs\\python\\python310\\lib\\site-packages (from jsonschema>=2.6->nbformat->notebook>=5.6.0->jupyterthemes) (21.4.0)\n",
      "Requirement already satisfied: cffi>=1.0.1 in c:\\users\\clldu\\appdata\\local\\programs\\python\\python310\\lib\\site-packages (from argon2-cffi-bindings->argon2-cffi->notebook>=5.6.0->jupyterthemes) (1.15.0)\n",
      "Requirement already satisfied: soupsieve>1.2 in c:\\users\\clldu\\appdata\\local\\programs\\python\\python310\\lib\\site-packages (from beautifulsoup4->nbconvert>=5->notebook>=5.6.0->jupyterthemes) (2.3.2.post1)\n",
      "Requirement already satisfied: webencodings in c:\\users\\clldu\\appdata\\local\\programs\\python\\python310\\lib\\site-packages (from bleach->nbconvert>=5->notebook>=5.6.0->jupyterthemes) (0.5.1)\n",
      "Requirement already satisfied: pycparser in c:\\users\\clldu\\appdata\\local\\programs\\python\\python310\\lib\\site-packages (from cffi>=1.0.1->argon2-cffi-bindings->argon2-cffi->notebook>=5.6.0->jupyterthemes) (2.21)\n"
     ]
    }
   ],
   "source": [
    "!pip install jupyterthemes"
   ]
  },
  {
   "cell_type": "code",
   "execution_count": 6,
   "id": "537bdb88",
   "metadata": {
    "ExecuteTime": {
     "end_time": "2022-07-13T13:15:16.823287Z",
     "start_time": "2022-07-13T13:15:13.879622Z"
    }
   },
   "outputs": [
    {
     "name": "stdout",
     "output_type": "stream",
     "text": [
      "Available Themes: \n",
      "   chesterish\n",
      "   grade3\n",
      "   gruvboxd\n",
      "   gruvboxl\n",
      "   monokai\n",
      "   oceans16\n",
      "   onedork\n",
      "   solarizedd\n",
      "   solarizedl\n"
     ]
    }
   ],
   "source": [
    "!jt -l"
   ]
  },
  {
   "cell_type": "code",
   "execution_count": 7,
   "id": "3c283fa8",
   "metadata": {
    "ExecuteTime": {
     "end_time": "2022-07-13T13:15:17.740655Z",
     "start_time": "2022-07-13T13:15:16.826283Z"
    }
   },
   "outputs": [],
   "source": [
    "!jt -t oceans16"
   ]
  },
  {
   "cell_type": "code",
   "execution_count": 8,
   "id": "cfd7d1e0",
   "metadata": {
    "ExecuteTime": {
     "end_time": "2022-07-13T13:15:18.584536Z",
     "start_time": "2022-07-13T13:15:17.743694Z"
    }
   },
   "outputs": [],
   "source": [
    "!jt -t oceans16 -f fira -fs 115"
   ]
  },
  {
   "cell_type": "code",
   "execution_count": 9,
   "id": "31f9d564",
   "metadata": {
    "ExecuteTime": {
     "end_time": "2022-07-13T13:15:19.469046Z",
     "start_time": "2022-07-13T13:15:18.585537Z"
    }
   },
   "outputs": [],
   "source": [
    "!jt -t oceans16 -N -kl"
   ]
  },
  {
   "cell_type": "code",
   "execution_count": null,
   "id": "cf5ac858",
   "metadata": {},
   "outputs": [],
   "source": []
  }
 ],
 "metadata": {
  "kernelspec": {
   "display_name": "Python 3 (ipykernel)",
   "language": "python",
   "name": "python3"
  },
  "language_info": {
   "codemirror_mode": {
    "name": "ipython",
    "version": 3
   },
   "file_extension": ".py",
   "mimetype": "text/x-python",
   "name": "python",
   "nbconvert_exporter": "python",
   "pygments_lexer": "ipython3",
   "version": "3.10.5"
  },
  "toc": {
   "base_numbering": 1,
   "nav_menu": {},
   "number_sections": true,
   "sideBar": true,
   "skip_h1_title": false,
   "title_cell": "Table of Contents",
   "title_sidebar": "Contents",
   "toc_cell": false,
   "toc_position": {},
   "toc_section_display": true,
   "toc_window_display": false
  },
  "varInspector": {
   "cols": {
    "lenName": 16,
    "lenType": 16,
    "lenVar": 40
   },
   "kernels_config": {
    "python": {
     "delete_cmd_postfix": "",
     "delete_cmd_prefix": "del ",
     "library": "var_list.py",
     "varRefreshCmd": "print(var_dic_list())"
    },
    "r": {
     "delete_cmd_postfix": ") ",
     "delete_cmd_prefix": "rm(",
     "library": "var_list.r",
     "varRefreshCmd": "cat(var_dic_list()) "
    }
   },
   "types_to_exclude": [
    "module",
    "function",
    "builtin_function_or_method",
    "instance",
    "_Feature"
   ],
   "window_display": false
  }
 },
 "nbformat": 4,
 "nbformat_minor": 5
}
