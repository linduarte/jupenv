{
 "cells": [
  {
   "cell_type": "markdown",
   "id": "6b02e5c7",
   "metadata": {},
   "source": [
    "Atributos de um DataFrame e seus dtypes"
   ]
  },
  {
   "cell_type": "code",
   "execution_count": 1,
   "id": "1338e6f3",
   "metadata": {},
   "outputs": [],
   "source": [
    "# Tipos de atributos\n",
    "import pandas as pd"
   ]
  },
  {
   "cell_type": "code",
   "execution_count": 2,
   "id": "b831c38d",
   "metadata": {},
   "outputs": [],
   "source": [
    "# Cria o DataFrame \"pme\"\n",
    "dados = {\"renda\":[6.45, 1.50, 0.00, 2.57, 9.90, 6.22],\"empregos\":[1,1,0,1,2,3],\n",
    "         \"sexo\":[\"F\",\"M\",\"F\",\"M\",\"M\",\"F\"],\"escolaridade\":[\"pós-graduação\",\"fundamental\",\"médio\",\"médio\",\n",
    "                                                          \"superior\",\"médio\"]}\n",
    "pme = pd.DataFrame(dados)"
   ]
  },
  {
   "cell_type": "code",
   "execution_count": 3,
   "id": "9cf57be6",
   "metadata": {},
   "outputs": [
    {
     "name": "stdout",
     "output_type": "stream",
     "text": [
      "\n",
      "atributos e seus dtypes:\n",
      "--------------------\n",
      "renda           float64\n",
      "empregos          int64\n",
      "sexo             object\n",
      "escolaridade     object\n",
      "dtype: object\n"
     ]
    }
   ],
   "source": [
    "# imprime o nmoe de cada atributo e seu dtype\n",
    "print(\"\\natributos e seus dtypes:\")\n",
    "print(\"--------------------\")\n",
    "print(pme.dtypes)"
   ]
  },
  {
   "cell_type": "code",
   "execution_count": 4,
   "id": "c48f3db5",
   "metadata": {},
   "outputs": [],
   "source": [
    "# Estatísticas básicas : medidas de tendências central\n",
    "import pandas as pd"
   ]
  },
  {
   "cell_type": "code",
   "execution_count": 5,
   "id": "e9a67fa1",
   "metadata": {},
   "outputs": [
    {
     "name": "stdout",
     "output_type": "stream",
     "text": [
      "Defaulting to user installation because normal site-packages is not writeable\n",
      "Requirement already satisfied: matplotlib in c:\\program files\\python38\\lib\\site-packages (3.5.2)\n",
      "Requirement already satisfied: fonttools>=4.22.0 in c:\\program files\\python38\\lib\\site-packages (from matplotlib) (4.34.4)\n",
      "Requirement already satisfied: pillow>=6.2.0 in c:\\program files\\python38\\lib\\site-packages (from matplotlib) (9.2.0)\n",
      "Requirement already satisfied: packaging>=20.0 in c:\\program files\\python38\\lib\\site-packages (from matplotlib) (21.3)\n",
      "Requirement already satisfied: cycler>=0.10 in c:\\program files\\python38\\lib\\site-packages (from matplotlib) (0.11.0)\n",
      "Requirement already satisfied: pyparsing>=2.2.1 in c:\\program files\\python38\\lib\\site-packages (from matplotlib) (3.0.9)\n",
      "Requirement already satisfied: python-dateutil>=2.7 in c:\\program files\\python38\\lib\\site-packages (from matplotlib) (2.8.2)\n",
      "Requirement already satisfied: numpy>=1.17 in c:\\program files\\python38\\lib\\site-packages (from matplotlib) (1.23.1)\n",
      "Requirement already satisfied: kiwisolver>=1.0.1 in c:\\program files\\python38\\lib\\site-packages (from matplotlib) (1.4.4)\n",
      "Requirement already satisfied: six>=1.5 in c:\\program files\\python38\\lib\\site-packages (from python-dateutil>=2.7->matplotlib) (1.16.0)\n"
     ]
    },
    {
     "name": "stderr",
     "output_type": "stream",
     "text": [
      "WARNING: pip is being invoked by an old script wrapper. This will fail in a future version of pip.\n",
      "Please see https://github.com/pypa/pip/issues/5599 for advice on fixing the underlying issue.\n",
      "To avoid this problem you can invoke Python with '-m pip' instead of running pip directly.\n"
     ]
    }
   ],
   "source": [
    "!pip install matplotlib"
   ]
  },
  {
   "cell_type": "code",
   "execution_count": 6,
   "id": "57cd7f0e",
   "metadata": {},
   "outputs": [],
   "source": [
    "# Cria o DataFrame\n",
    "dados = {\"jogador\":[\"Marcelo\",\"Pedro\",\"Marcelo\",\"Adriano\",\"Mauro\",\"Pedro\",\"Marcelo\"],\n",
    "         \"infração\":[\"FALTA VIOLENTA\",\"RECLAMAÇÃO\",\"FALTA COMUM\",\"RECLAMAÇÃO\",\n",
    "         \"FALTA COMUM\",\"FALTA VIOLENTA\",\"RECLAMAÇÃO\"],\n",
    "         \"punição\":[4,1,3,2,4,4,2] }\n",
    "df = pd.DataFrame(dados)"
   ]
  },
  {
   "cell_type": "code",
   "execution_count": 7,
   "id": "592bcb45",
   "metadata": {
    "scrolled": true
   },
   "outputs": [
    {
     "name": "stdout",
     "output_type": "stream",
     "text": [
      "média: 2.857142857142857\n",
      "mediana: 3.0\n",
      "moda: [4]\n"
     ]
    }
   ],
   "source": [
    "# Calcula as medidas de tendência central\n",
    "print(\"média:\",df['punição'].mean())\n",
    "print(\"mediana:\",df['punição'].median())\n",
    "print(\"moda:\",df['punição'].mode().values)"
   ]
  },
  {
   "cell_type": "code",
   "execution_count": 8,
   "id": "4ac7252d",
   "metadata": {},
   "outputs": [],
   "source": [
    "# Cria o DataFrame\n",
    "dados = {\"jogador\":[\"Marcelo\",\"Pedro\",\"Marcelo\",\"Adriano\",\"Mauro\",\"Pedro\",\"Marcelo\"],\n",
    "         \"infração\":[\"FALTA VIOLENTA\",\"RECLAMAÇÃO\",\"FALTA COMUM\",\"RECLAMAÇÃO\",\n",
    "         \"FALTA COMUM\",\"FALTA VIOLENTA\",\"RECLAMAÇÃO\"],\n",
    "         \"juiz_A\":[4,1,3,2,4,4,2], \"juiz_B\":[2,1,4,1,1,5,6]}\n",
    "df = pd.DataFrame(dados)"
   ]
  },
  {
   "cell_type": "code",
   "execution_count": 9,
   "id": "18f45e14",
   "metadata": {},
   "outputs": [
    {
     "name": "stdout",
     "output_type": "stream",
     "text": [
      "juiz_A:\n",
      "-----------\n",
      "amplitude: 3\n",
      "variância: 1.476190476190476\n",
      "desvio padrão: 1.2149857925879117\n",
      "\n",
      "juiz_B\n",
      "------------\n",
      "amplitude: 5\n",
      "variância: 4.476190476190476\n",
      "desvio padrão: 2.1157009420498154\n"
     ]
    }
   ],
   "source": [
    "# Calcula as medidas de variabilidade\n",
    "print(\"juiz_A:\")\n",
    "print(\"-----------\")\n",
    "print(\"amplitude:\",df['juiz_A'].max()-df['juiz_A'].min())\n",
    "print(\"variância:\",df['juiz_A'].var())\n",
    "print(\"desvio padrão:\",df['juiz_A'].std())\n",
    "\n",
    "print(\"\\njuiz_B\")\n",
    "print(\"------------\")\n",
    "print(\"amplitude:\",df['juiz_B'].max()-df['juiz_B'].min())\n",
    "print(\"variância:\",df['juiz_B'].var())\n",
    "print(\"desvio padrão:\",df['juiz_B'].std())"
   ]
  },
  {
   "cell_type": "code",
   "execution_count": 10,
   "id": "a0b33f97",
   "metadata": {},
   "outputs": [],
   "source": [
    "# Boxplot - Comparação de distribuições\n",
    "import pandas as pd\n"
   ]
  },
  {
   "cell_type": "code",
   "execution_count": 11,
   "id": "574d9a28",
   "metadata": {},
   "outputs": [
    {
     "data": {
      "text/plain": [
       "'3.5.2'"
      ]
     },
     "execution_count": 11,
     "metadata": {},
     "output_type": "execute_result"
    }
   ],
   "source": [
    "import matplotlib\n",
    "matplotlib.__version__"
   ]
  },
  {
   "cell_type": "code",
   "execution_count": 12,
   "id": "5417e790",
   "metadata": {},
   "outputs": [
    {
     "data": {
      "image/png": "[encoded data removed]",
      "text/plain": [
       "<Figure size 432x288 with 1 Axes>"
      ]
     },
     "metadata": {
      "needs_background": "light"
     },
     "output_type": "display_data"
    }
   ],
   "source": [
    "df = pd.DataFrame({\"homens\":[4,2,7,3,1,4,2,4,8,1], \"mulheres\":[5,4,6,5,4,2,6,6,4,3]})\n",
    "boxplot = df.boxplot(column = ['homens','mulheres'],showmeans=True)"
   ]
  },
  {
   "cell_type": "code",
   "execution_count": null,
   "id": "0d151ee0",
   "metadata": {},
   "outputs": [],
   "source": []
  }
 ],
 "metadata": {
  "kernelspec": {
   "display_name": "Python 3.10.5 64-bit",
   "language": "python",
   "name": "python3"
  },
  "language_info": {
   "codemirror_mode": {
    "name": "ipython",
    "version": 3
   },
   "file_extension": ".py",
   "mimetype": "text/x-python",
   "name": "python",
   "nbconvert_exporter": "python",
   "pygments_lexer": "ipython3",
   "version": "3.10.5"
  },
  "toc": {
   "base_numbering": 1,
   "nav_menu": {},
   "number_sections": true,
   "sideBar": true,
   "skip_h1_title": false,
   "title_cell": "Table of Contents",
   "title_sidebar": "Contents",
   "toc_cell": false,
   "toc_position": {},
   "toc_section_display": true,
   "toc_window_display": false
  },
  "varInspector": {
   "cols": {
    "lenName": 16,
    "lenType": 16,
    "lenVar": 40
   },
   "kernels_config": {
    "python": {
     "delete_cmd_postfix": "",
     "delete_cmd_prefix": "del ",
     "library": "var_list.py",
     "varRefreshCmd": "print(var_dic_list())"
    },
    "r": {
     "delete_cmd_postfix": ") ",
     "delete_cmd_prefix": "rm(",
     "library": "var_list.r",
     "varRefreshCmd": "cat(var_dic_list()) "
    }
   },
   "types_to_exclude": [
    "module",
    "function",
    "builtin_function_or_method",
    "instance",
    "_Feature"
   ],
   "window_display": false
  },
  "vscode": {
   "interpreter": {
    "hash": "45d8dd6a08173e141f0eae9a0e2722eb9538be3e5442c55c4ba9e292037c4a8f"
   }
  }
 },
 "nbformat": 4,
 "nbformat_minor": 5
}
