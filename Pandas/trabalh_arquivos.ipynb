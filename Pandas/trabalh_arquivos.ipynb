{
 "cells": [
  {
   "cell_type": "code",
   "execution_count": 5,
   "id": "0bab07dc",
   "metadata": {},
   "outputs": [],
   "source": [
    "# Importação de arquivo com série temporal\n",
    "import pandas as pd"
   ]
  },
  {
   "cell_type": "code",
   "execution_count": 6,
   "id": "e95ed890",
   "metadata": {},
   "outputs": [],
   "source": [
    "serie_gols = pd.read_csv(\"gols.txt\",sep = ' ', index_col = 0).squeeze ()"
   ]
  },
  {
   "cell_type": "code",
   "execution_count": 7,
   "id": "b6c59c27",
   "metadata": {},
   "outputs": [],
   "source": [
    "serie_gols.index = pd.to_datetime(serie_gols.index,format = '%d/%m/%Y')"
   ]
  },
  {
   "cell_type": "code",
   "execution_count": 8,
   "id": "c0cbe0ae",
   "metadata": {},
   "outputs": [
    {
     "name": "stdout",
     "output_type": "stream",
     "text": [
      "dia\n",
      "2019-06-05    1\n",
      "2019-06-09    0\n",
      "2019-06-16    5\n",
      "2019-06-19    2\n",
      "2019-06-23    1\n",
      "2019-06-27    3\n",
      "2019-06-30    0\n",
      "Name: gols, dtype: int64\n"
     ]
    }
   ],
   "source": [
    "print(serie_gols)"
   ]
  },
  {
   "cell_type": "code",
   "execution_count": 9,
   "id": "0fee2a2a",
   "metadata": {},
   "outputs": [],
   "source": [
    "# Importação de planilha Excel\n",
    "cidades = pd.read_excel(\"capitais.xlsx\")"
   ]
  },
  {
   "cell_type": "code",
   "execution_count": 10,
   "id": "a60149fb",
   "metadata": {},
   "outputs": [
    {
     "name": "stdout",
     "output_type": "stream",
     "text": [
      "            capital   região  população\n",
      "0   Belém            Sudeste    1446042\n",
      "1   Belo Horizonte   Sudeste    2513451\n",
      "2   Boa Vista          Norte     326419\n",
      "3   Curitiba             Sul    1893977\n",
      "4   Florianópolis        Sul     477798\n",
      "5   Macapá             Norte     465495\n",
      "6   Manaus             Norte    2094391\n",
      "7   Palmas             Norte     279856\n",
      "8   Porto Alegre         Sul    1481019\n",
      "9   Porto Velho        Norte     511219\n",
      "10  Rio Branco         Norte     377057\n",
      "11  São Paulo        Sudeste   12038175\n",
      "12  Rio de Janeiro   Sudeste    6498837\n",
      "13  Vitória          Sudeste     359555\n"
     ]
    }
   ],
   "source": [
    "print(cidades)"
   ]
  },
  {
   "cell_type": "markdown",
   "id": "25fc34ee",
   "metadata": {},
   "source": [
    "Importação de arquivo JSON (JavaScript Object Notation)"
   ]
  },
  {
   "cell_type": "code",
   "execution_count": null,
   "id": "f355fd55",
   "metadata": {},
   "outputs": [],
   "source": [
    "[\n",
    "    {\n",
    "     \"matricula\": \"M0012017\",\n",
    "     \"notas\": [9.8, 9.5] \n",
    "    },\n",
    "    {\n",
    "     \"matricula\": \"M0022017\",\n",
    "     \"notas\": [5.3, 4.1] \n",
    "    },\n",
    "    {\n",
    "     \"matricula\": \"M0032017\",\n",
    "     \"notas\": [2.5, 8.0] \n",
    "    },\n",
    "    {\n",
    "     \"matricula\": \"M0042017\",\n",
    "     \"notas\": [7.5, 7.5] \n",
    "    }    \n",
    "]\n",
    "\n"
   ]
  },
  {
   "cell_type": "code",
   "execution_count": 12,
   "id": "2459f7a1",
   "metadata": {},
   "outputs": [],
   "source": [
    "# Importação do arquivo JSON\n",
    "import pandas as pd\n",
    "import json"
   ]
  },
  {
   "cell_type": "code",
   "execution_count": 13,
   "id": "46b2ceb6",
   "metadata": {},
   "outputs": [],
   "source": [
    "# Importa o arquivo JSON para a memória\n",
    "with open(\"notas.json\") as f:\n",
    "    j_notas = json.load(f)"
   ]
  },
  {
   "cell_type": "code",
   "execution_count": 14,
   "id": "7f06743d",
   "metadata": {},
   "outputs": [],
   "source": [
    "# Transfere as informações para um DataFrame\n",
    "notas = pd.DataFrame(j_notas, columns = ['matricula','notas'])"
   ]
  },
  {
   "cell_type": "code",
   "execution_count": 17,
   "id": "c6628ac5",
   "metadata": {},
   "outputs": [
    {
     "name": "stdout",
     "output_type": "stream",
     "text": [
      "  matricula       notas\n",
      "0  M0012017  [9.8, 9.5]\n",
      "1  M0022017  [5.3, 4.1]\n",
      "2  M0032017  [2.5, 8.0]\n",
      "3  M0042017  [7.5, 7.5]\n"
     ]
    }
   ],
   "source": [
    "print(notas)"
   ]
  },
  {
   "cell_type": "markdown",
   "id": "19a8c0f7",
   "metadata": {},
   "source": [
    "Gravação de arquivos"
   ]
  },
  {
   "cell_type": "code",
   "execution_count": 18,
   "id": "5323217c",
   "metadata": {},
   "outputs": [],
   "source": [
    "# Se você quiser gravar o conteúdo de um DataFrame em memória para um arquivo CSV, \n",
    "# deverá utilizar o método to_csv().\n"
   ]
  },
  {
   "cell_type": "code",
   "execution_count": 20,
   "id": "b3ed16ce",
   "metadata": {},
   "outputs": [],
   "source": [
    "# Salva o conteúdo de um DataFrame  em um CSV\n",
    "import pandas as pd"
   ]
  },
  {
   "cell_type": "code",
   "execution_count": 21,
   "id": "8ee9a29b",
   "metadata": {},
   "outputs": [],
   "source": [
    "# Cria o DataFrame \n",
    "dados = {'codigo':[1001,1002,1003,1004,1004],'nome':['Leite','Café','Biscoito','Chá','Torradas']}\n",
    "produtos = pd.DataFrame(dados)"
   ]
  },
  {
   "cell_type": "code",
   "execution_count": 22,
   "id": "da8654b5",
   "metadata": {},
   "outputs": [],
   "source": [
    "# Salva o seu conteúdo para um arquivo\n",
    "produtos.to_csv(\"produtos.csv\",sep=\"\\t\",index=False)"
   ]
  },
  {
   "cell_type": "code",
   "execution_count": 23,
   "id": "5c0d2490",
   "metadata": {},
   "outputs": [],
   "source": [
    "# Exportar para arquivo Excel\n",
    "produtos.to_excel(\"produtos.xlsx\",index = False)"
   ]
  }
 ],
 "metadata": {
  "kernelspec": {
   "display_name": "pandpython-kernel",
   "language": "python",
   "name": "pandpython-kernel"
  },
  "language_info": {
   "codemirror_mode": {
    "name": "ipython",
    "version": 3
   },
   "file_extension": ".py",
   "mimetype": "text/x-python",
   "name": "python",
   "nbconvert_exporter": "python",
   "pygments_lexer": "ipython3",
   "version": "3.9.7"
  },
  "toc": {
   "base_numbering": 1,
   "nav_menu": {},
   "number_sections": true,
   "sideBar": true,
   "skip_h1_title": false,
   "title_cell": "Table of Contents",
   "title_sidebar": "Contents",
   "toc_cell": false,
   "toc_position": {},
   "toc_section_display": true,
   "toc_window_display": false
  },
  "varInspector": {
   "cols": {
    "lenName": 16,
    "lenType": 16,
    "lenVar": 40
   },
   "kernels_config": {
    "python": {
     "delete_cmd_postfix": "",
     "delete_cmd_prefix": "del ",
     "library": "var_list.py",
     "varRefreshCmd": "print(var_dic_list())"
    },
    "r": {
     "delete_cmd_postfix": ") ",
     "delete_cmd_prefix": "rm(",
     "library": "var_list.r",
     "varRefreshCmd": "cat(var_dic_list()) "
    }
   },
   "types_to_exclude": [
    "module",
    "function",
    "builtin_function_or_method",
    "instance",
    "_Feature"
   ],
   "window_display": false
  }
 },
 "nbformat": 4,
 "nbformat_minor": 5
}
