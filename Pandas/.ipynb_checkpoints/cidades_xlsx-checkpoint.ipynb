{
 "cells": [
  {
   "cell_type": "code",
   "execution_count": 1,
   "metadata": {},
   "outputs": [],
   "source": [
    "import pandas as pd"
   ]
  },
  {
   "cell_type": "code",
   "execution_count": 2,
   "metadata": {},
   "outputs": [
    {
     "name": "stdout",
     "output_type": "stream",
     "text": [
      "Requirement already satisfied: openpyxl in c:\\users\\clldu\\miniconda3\\lib\\site-packages (3.0.9)\n",
      "Requirement already satisfied: et-xmlfile in c:\\users\\clldu\\miniconda3\\lib\\site-packages (from openpyxl) (1.1.0)\n"
     ]
    }
   ],
   "source": [
    "!pip install openpyxl"
   ]
  },
  {
   "cell_type": "code",
   "execution_count": 3,
   "metadata": {},
   "outputs": [
    {
     "name": "stdout",
     "output_type": "stream",
     "text": [
      "pip 22.0.4 from C:\\Users\\clldu\\miniconda3\\lib\\site-packages\\pip (python 3.9)\n",
      "\n"
     ]
    }
   ],
   "source": [
    "!pip --version\n"
   ]
  },
  {
   "cell_type": "code",
   "execution_count": 4,
   "metadata": {},
   "outputs": [],
   "source": [
    "import openpyxl"
   ]
  },
  {
   "cell_type": "code",
   "execution_count": 5,
   "metadata": {},
   "outputs": [],
   "source": [
    "cidades = pd.read_excel(\"capitais.xlsx\")"
   ]
  },
  {
   "cell_type": "code",
   "execution_count": 6,
   "metadata": {},
   "outputs": [
    {
     "name": "stdout",
     "output_type": "stream",
     "text": [
      "            capital   região  população\n",
      "0   Belém            Sudeste    1446042\n",
      "1   Belo Horizonte   Sudeste    2513451\n",
      "2   Boa Vista          Norte     326419\n",
      "3   Curitiba             Sul    1893977\n",
      "4   Florianópolis        Sul     477798\n",
      "5   Macapá             Norte     465495\n",
      "6   Manaus             Norte    2094391\n",
      "7   Palmas             Norte     279856\n",
      "8   Porto Alegre         Sul    1481019\n",
      "9   Porto Velho        Norte     511219\n",
      "10  Rio Branco         Norte     377057\n",
      "11  São Paulo        Sudeste   12038175\n",
      "12  Rio de Janeiro   Sudeste    6498837\n",
      "13  Vitória          Sudeste     359555\n"
     ]
    }
   ],
   "source": [
    "print(cidades)"
   ]
  },
  {
   "cell_type": "code",
   "execution_count": 7,
   "metadata": {},
   "outputs": [
    {
     "name": "stdout",
     "output_type": "stream",
     "text": [
      "Package                Version\n",
      "---------------------- ---------\n",
      "argon2-cffi            21.3.0\n",
      "argon2-cffi-bindings   21.2.0\n",
      "attrs                  21.4.0\n",
      "backcall               0.2.0\n",
      "bleach                 4.1.0\n",
      "brotlipy               0.7.0\n",
      "certifi                2021.10.8\n",
      "cffi                   1.15.0\n",
      "charset-normalizer     2.0.4\n",
      "colorama               0.4.4\n",
      "conda                  4.12.0\n",
      "conda-package-handling 1.7.3\n",
      "cryptography           36.0.0\n",
      "cycler                 0.11.0\n",
      "debugpy                1.5.1\n",
      "decorator              5.1.1\n",
      "defusedxml             0.7.1\n",
      "entrypoints            0.3\n",
      "et-xmlfile             1.1.0\n",
      "fonttools              4.29.1\n",
      "idna                   3.3\n",
      "ipykernel              6.7.0\n",
      "ipython                7.29.0\n",
      "ipython-genutils       0.2.0\n",
      "ipywidgets             7.6.5\n",
      "jedi                   0.18.1\n",
      "Jinja2                 3.0.3\n",
      "jsonschema             4.4.0\n",
      "jupyter                1.0.0\n",
      "jupyter-client         7.1.2\n",
      "jupyter-console        6.4.0\n",
      "jupyter-core           4.9.1\n",
      "jupyterlab-pygments    0.1.2\n",
      "jupyterlab-widgets     1.0.2\n",
      "kiwisolver             1.3.2\n",
      "MarkupSafe             2.1.0\n",
      "matplotlib             3.5.1\n",
      "matplotlib-inline      0.1.2\n",
      "menuinst               1.4.16\n",
      "mistune                0.8.4\n",
      "nbclient               0.5.11\n",
      "nbconvert              6.4.2\n",
      "nbformat               5.1.3\n",
      "nest-asyncio           1.5.1\n",
      "notebook               6.4.8\n",
      "numpy                  1.22.1\n",
      "openpyxl               3.0.9\n",
      "packaging              21.3\n",
      "pandas                 1.4.0\n",
      "pandocfilters          1.5.0\n",
      "parso                  0.8.3\n",
      "pickleshare            0.7.5\n",
      "Pillow                 9.0.1\n",
      "pip                    22.0.4\n",
      "prometheus-client      0.13.1\n",
      "prompt-toolkit         3.0.20\n",
      "pycosat                0.6.3\n",
      "pycparser              2.21\n",
      "Pygments               2.11.2\n",
      "pyOpenSSL              22.0.0\n",
      "pyparsing              3.0.7\n",
      "pyrsistent             0.18.1\n",
      "PySocks                1.7.1\n",
      "python-dateutil        2.8.2\n",
      "pytz                   2021.3\n",
      "pywin32                302\n",
      "pywinpty               2.0.2\n",
      "pyzmq                  22.3.0\n",
      "qtconsole              5.2.2\n",
      "QtPy                   2.0.1\n",
      "requests               2.27.1\n",
      "ruamel-yaml-conda      0.15.100\n",
      "scipy                  1.8.0\n",
      "seaborn                0.11.2\n",
      "Send2Trash             1.8.0\n",
      "setuptools             58.0.4\n",
      "six                    1.16.0\n",
      "terminado              0.13.1\n",
      "testpath               0.6.0\n",
      "tornado                6.1\n",
      "tqdm                   4.62.3\n",
      "traitlets              5.1.1\n",
      "urllib3                1.26.8\n",
      "wcwidth                0.2.5\n",
      "webencodings           0.5.1\n",
      "wheel                  0.37.1\n",
      "widgetsnbextension     3.5.2\n",
      "win-inet-pton          1.1.0\n",
      "wincertstore           0.2\n"
     ]
    }
   ],
   "source": [
    "!pip list"
   ]
  },
  {
   "cell_type": "code",
   "execution_count": 8,
   "metadata": {},
   "outputs": [
    {
     "name": "stdout",
     "output_type": "stream",
     "text": [
      "Requirement already satisfied: pip in c:\\users\\clldu\\miniconda3\\lib\\site-packages (22.0.4)\n"
     ]
    }
   ],
   "source": [
    "!python -m pip install --upgrade pip"
   ]
  },
  {
   "cell_type": "code",
   "execution_count": 9,
   "metadata": {},
   "outputs": [
    {
     "name": "stdout",
     "output_type": "stream",
     "text": [
      "pip 22.0.4 from C:\\Users\\clldu\\miniconda3\\lib\\site-packages\\pip (python 3.9)\n",
      "\n"
     ]
    }
   ],
   "source": [
    "!pip --version"
   ]
  },
  {
   "cell_type": "code",
   "execution_count": null,
   "metadata": {},
   "outputs": [],
   "source": [
    "variable"
   ]
  }
 ],
 "metadata": {
  "interpreter": {
   "hash": "b6a8aeb5b55839dd869e3d330a0fc8965452ac8b6699463be9be2209b59ab95d"
  },
  "kernelspec": {
   "display_name": "Python 3 (ipykernel)",
   "language": "python",
   "name": "python3"
  },
  "language_info": {
   "codemirror_mode": {
    "name": "ipython",
    "version": 3
   },
   "file_extension": ".py",
   "mimetype": "text/x-python",
   "name": "python",
   "nbconvert_exporter": "python",
   "pygments_lexer": "ipython3",
   "version": "3.10.4"
  },
  "toc": {
   "base_numbering": 1,
   "nav_menu": {},
   "number_sections": true,
   "sideBar": true,
   "skip_h1_title": false,
   "title_cell": "Table of Contents",
   "title_sidebar": "Contents",
   "toc_cell": false,
   "toc_position": {},
   "toc_section_display": true,
   "toc_window_display": false
  },
  "varInspector": {
   "cols": {
    "lenName": 16,
    "lenType": 16,
    "lenVar": 40
   },
   "kernels_config": {
    "python": {
     "delete_cmd_postfix": "",
     "delete_cmd_prefix": "del ",
     "library": "var_list.py",
     "varRefreshCmd": "print(var_dic_list())"
    },
    "r": {
     "delete_cmd_postfix": ") ",
     "delete_cmd_prefix": "rm(",
     "library": "var_list.r",
     "varRefreshCmd": "cat(var_dic_list()) "
    }
   },
   "types_to_exclude": [
    "module",
    "function",
    "builtin_function_or_method",
    "instance",
    "_Feature"
   ],
   "window_display": false
  }
 },
 "nbformat": 4,
 "nbformat_minor": 2
}
