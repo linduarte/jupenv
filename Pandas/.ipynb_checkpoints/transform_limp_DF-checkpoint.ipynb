{
 "cells": [
  {
   "cell_type": "markdown",
   "id": "fbfcb94c",
   "metadata": {},
   "source": [
    "## Seleção"
   ]
  },
  {
   "cell_type": "code",
   "execution_count": 3,
   "id": "2c522ff5",
   "metadata": {},
   "outputs": [],
   "source": [
    "# Seleção\n",
    "import pandas as pd"
   ]
  },
  {
   "cell_type": "code",
   "execution_count": 4,
   "id": "e0675911",
   "metadata": {},
   "outputs": [],
   "source": [
    "# 1 - Importa as bases de dados\n",
    "flags = pd.read_csv('flags.csv')\n",
    "# 2 - Seleciona apenas as linhas dos países da oceania\n",
    "v = (flags['landmass']==6)\n",
    "flags_oceania = flags[v]"
   ]
  },
  {
   "cell_type": "code",
   "execution_count": 5,
   "id": "3f799897",
   "metadata": {},
   "outputs": [
    {
     "name": "stdout",
     "output_type": "stream",
     "text": [
      "                 name  landmass  zone  area  population  language  religion  \\\n",
      "3      American-Samoa         6     3     0           0         1         1   \n",
      "10          Australia         6     2  7690          15         1         1   \n",
      "41       Cook-Islands         6     3     0           0         1         1   \n",
      "57               Fiji         6     2    18           1         1         1   \n",
      "61   French-Polynesia         6     3     4           0         3         0   \n",
      "71               Guam         6     1     0           0         1         1   \n",
      "82          Indonesia         6     2  1904         157        10         2   \n",
      "94           Kiribati         6     1     0           0         1         1   \n",
      "109          Marianas         6     1     0           0        10         1   \n",
      "113        Micronesia         6     1     1           0        10         1   \n",
      "119             Nauru         6     2     0           0        10         1   \n",
      "123       New-Zealand         6     2   268           2         1         1   \n",
      "127              Niue         6     3     0           0         1         1   \n",
      "134  Papua-New-Guinea         6     2   463           3         1         5   \n",
      "137       Philippines         6     1   300          48        10         0   \n",
      "151   Soloman-Islands         6     2    30           0         1         1   \n",
      "172             Tonga         6     2     1           0        10         1   \n",
      "177            Tuvalu         6     2     0           0         1         1   \n",
      "185           Vanuatu         6     2    15           0         6         1   \n",
      "189     Western-Samoa         6     3     3           0         1         1   \n",
      "\n",
      "     bars  stripes  colours  ...  saltires  quarters  sunstars  crescent  \\\n",
      "3       0        0        5  ...         0         0         0         0   \n",
      "10      0        0        3  ...         1         1         6         0   \n",
      "41      0        0        4  ...         1         1        15         0   \n",
      "57      0        0        7  ...         1         1         0         0   \n",
      "61      0        3        5  ...         0         0         1         0   \n",
      "71      0        0        7  ...         0         0         0         0   \n",
      "82      0        2        2  ...         0         0         0         0   \n",
      "94      0        0        4  ...         0         0         1         0   \n",
      "109     0        0        3  ...         0         0         1         0   \n",
      "113     0        0        2  ...         0         0         4         0   \n",
      "119     0        3        3  ...         0         0         1         0   \n",
      "123     0        0        3  ...         1         1         4         0   \n",
      "127     0        0        4  ...         1         1         5         0   \n",
      "134     0        0        4  ...         0         0         5         0   \n",
      "137     0        0        4  ...         0         0         4         0   \n",
      "151     0        0        4  ...         0         0         5         0   \n",
      "172     0        0        2  ...         0         1         0         0   \n",
      "177     0        0        5  ...         1         1         9         0   \n",
      "185     0        0        4  ...         0         0         0         0   \n",
      "189     0        0        3  ...         0         1         5         0   \n",
      "\n",
      "     triangle  icon  animate text  topleft  botright  \n",
      "3           1     1        1    0     blue       red  \n",
      "10          0     0        0    0    white      blue  \n",
      "41          0     0        0    0    white      blue  \n",
      "57          0     1        1    0    white      blue  \n",
      "61          0     1        0    0      red       red  \n",
      "71          0     1        1    1      red       red  \n",
      "82          0     0        0    0      red     white  \n",
      "94          0     1        1    0      red      blue  \n",
      "109         0     1        0    0     blue      blue  \n",
      "113         0     0        0    0     blue      blue  \n",
      "119         0     0        0    0     blue      blue  \n",
      "123         0     0        0    0    white      blue  \n",
      "127         0     0        0    0    white      gold  \n",
      "134         1     0        1    0      red     black  \n",
      "137         1     0        0    0     blue       red  \n",
      "151         1     0        0    0     blue     green  \n",
      "172         0     0        0    0    white       red  \n",
      "177         0     0        0    0    white      blue  \n",
      "185         1     0        1    0    black     green  \n",
      "189         0     0        0    0     blue       red  \n",
      "\n",
      "[20 rows x 30 columns]\n"
     ]
    }
   ],
   "source": [
    "# 3 - Imprime os países da oceania\n",
    "print(flags_oceania)"
   ]
  },
  {
   "cell_type": "code",
   "execution_count": 6,
   "id": "ccd483ee",
   "metadata": {},
   "outputs": [],
   "source": [
    "flags_oceania = (flags['landmass']!=6)"
   ]
  },
  {
   "cell_type": "code",
   "execution_count": 7,
   "id": "880de35f",
   "metadata": {},
   "outputs": [
    {
     "name": "stdout",
     "output_type": "stream",
     "text": [
      "0       True\n",
      "1       True\n",
      "2       True\n",
      "3      False\n",
      "4       True\n",
      "       ...  \n",
      "189    False\n",
      "190     True\n",
      "191     True\n",
      "192     True\n",
      "193     True\n",
      "Name: landmass, Length: 194, dtype: bool\n"
     ]
    }
   ],
   "source": [
    "print(flags_oceania)"
   ]
  },
  {
   "cell_type": "code",
   "execution_count": 8,
   "id": "00e4edad",
   "metadata": {},
   "outputs": [],
   "source": [
    "flags_oceania = (flags['colours']<=2)"
   ]
  },
  {
   "cell_type": "code",
   "execution_count": 9,
   "id": "f4927872",
   "metadata": {},
   "outputs": [
    {
     "name": "stdout",
     "output_type": "stream",
     "text": [
      "0      False\n",
      "1      False\n",
      "2      False\n",
      "3      False\n",
      "4      False\n",
      "       ...  \n",
      "189    False\n",
      "190    False\n",
      "191    False\n",
      "192    False\n",
      "193    False\n",
      "Name: colours, Length: 194, dtype: bool\n"
     ]
    }
   ],
   "source": [
    "print(flags_oceania)"
   ]
  },
  {
   "cell_type": "code",
   "execution_count": 10,
   "id": "4054612e",
   "metadata": {},
   "outputs": [],
   "source": [
    "flags_oceania = (flags['language']==1)"
   ]
  },
  {
   "cell_type": "code",
   "execution_count": 11,
   "id": "9751a66b",
   "metadata": {
    "scrolled": true
   },
   "outputs": [
    {
     "name": "stdout",
     "output_type": "stream",
     "text": [
      "0      False\n",
      "1      False\n",
      "2      False\n",
      "3       True\n",
      "4      False\n",
      "       ...  \n",
      "189     True\n",
      "190    False\n",
      "191    False\n",
      "192    False\n",
      "193    False\n",
      "Name: language, Length: 194, dtype: bool\n"
     ]
    }
   ],
   "source": [
    "print(flags_oceania)"
   ]
  },
  {
   "cell_type": "code",
   "execution_count": 12,
   "id": "628a72e3",
   "metadata": {},
   "outputs": [],
   "source": [
    "flags_oceania = (flags['language']==4)"
   ]
  },
  {
   "cell_type": "code",
   "execution_count": 13,
   "id": "cf05435f",
   "metadata": {},
   "outputs": [
    {
     "name": "stdout",
     "output_type": "stream",
     "text": [
      "0      False\n",
      "1      False\n",
      "2      False\n",
      "3      False\n",
      "4      False\n",
      "       ...  \n",
      "189    False\n",
      "190    False\n",
      "191    False\n",
      "192    False\n",
      "193    False\n",
      "Name: language, Length: 194, dtype: bool\n"
     ]
    }
   ],
   "source": [
    "print(flags_oceania)"
   ]
  },
  {
   "cell_type": "code",
   "execution_count": 14,
   "id": "fb442396",
   "metadata": {},
   "outputs": [],
   "source": [
    "flags_oceania = (flags['landmass']==6)&(flags['area']>200)&(flags['language']==1)"
   ]
  },
  {
   "cell_type": "code",
   "execution_count": 15,
   "id": "600f1796",
   "metadata": {},
   "outputs": [
    {
     "name": "stdout",
     "output_type": "stream",
     "text": [
      "0      False\n",
      "1      False\n",
      "2      False\n",
      "3      False\n",
      "4      False\n",
      "       ...  \n",
      "189    False\n",
      "190    False\n",
      "191    False\n",
      "192    False\n",
      "193    False\n",
      "Length: 194, dtype: bool\n"
     ]
    }
   ],
   "source": [
    "print(flags_oceania)"
   ]
  },
  {
   "cell_type": "markdown",
   "id": "d5602c45",
   "metadata": {},
   "source": [
    "## Projeção"
   ]
  },
  {
   "cell_type": "code",
   "execution_count": 16,
   "id": "08379d27",
   "metadata": {},
   "outputs": [],
   "source": [
    "import pandas as pd"
   ]
  },
  {
   "cell_type": "code",
   "execution_count": 17,
   "id": "a33bb9af",
   "metadata": {},
   "outputs": [],
   "source": [
    "# 1 - Importa as bases de dados\n",
    "flags = pd.read_csv('flags.csv')"
   ]
  },
  {
   "cell_type": "code",
   "execution_count": 18,
   "id": "06a20461",
   "metadata": {},
   "outputs": [],
   "source": [
    "# 2 - Seleciona apenas as linhas dos países da oceania\n",
    "# com área acima de 200 mil quilômetros quadrados\n",
    "v = (flags['landmass']==6)&(flags['area']>200)\n",
    "df=flags[v]"
   ]
  },
  {
   "cell_type": "code",
   "execution_count": 19,
   "id": "d6142fb4",
   "metadata": {},
   "outputs": [],
   "source": [
    "# 3 - Projeta apenas as colunas \"name\", \"colours\", \"language\" e \"area\"\n",
    "df = df[['name', 'colours', 'language', 'area']]"
   ]
  },
  {
   "cell_type": "code",
   "execution_count": 20,
   "id": "a857f1d9",
   "metadata": {},
   "outputs": [
    {
     "name": "stdout",
     "output_type": "stream",
     "text": [
      "                 name  colours  language  area\n",
      "10          Australia        3         1  7690\n",
      "82          Indonesia        2        10  1904\n",
      "123       New-Zealand        3         1   268\n",
      "134  Papua-New-Guinea        4         1   463\n",
      "137       Philippines        4        10   300\n"
     ]
    }
   ],
   "source": [
    "# 4 - Imprime o resultado\n",
    "print(df)"
   ]
  },
  {
   "cell_type": "markdown",
   "id": "dd90d906",
   "metadata": {},
   "source": [
    "## Recriando os índices"
   ]
  },
  {
   "cell_type": "code",
   "execution_count": 21,
   "id": "86932730",
   "metadata": {},
   "outputs": [],
   "source": [
    "# Método 'reset_index()'\n",
    "import pandas as pd"
   ]
  },
  {
   "cell_type": "code",
   "execution_count": 22,
   "id": "8b3a217e",
   "metadata": {},
   "outputs": [],
   "source": [
    "# 1 - Importa as bases de dados\n",
    "flags = pd.read_csv('flags.csv')"
   ]
  },
  {
   "cell_type": "code",
   "execution_count": 23,
   "id": "0340d964",
   "metadata": {},
   "outputs": [],
   "source": [
    "# 2 - Seleciona apenas as linhas dos países da oceania\n",
    "# com área acima de 200 mil quilômetros quadrados\n",
    "v = (flags['landmass']==6)&(flags['area']>200)\n",
    "df = flags[v]\n"
   ]
  },
  {
   "cell_type": "code",
   "execution_count": 24,
   "id": "2ad5c6d2",
   "metadata": {},
   "outputs": [],
   "source": [
    "# 3 - Projeta apenas as colunas \"name\", \"colours\", \"language\", \"landmass\" e \"area\"\n",
    "df = df[['name', 'colours', 'language', 'landmass', 'area']]\n"
   ]
  },
  {
   "cell_type": "code",
   "execution_count": 25,
   "id": "6616e177",
   "metadata": {},
   "outputs": [],
   "source": [
    "# 4 - Reseta os índices\n",
    "df = df.reset_index(drop = True)"
   ]
  },
  {
   "cell_type": "code",
   "execution_count": 26,
   "id": "ef04e8f3",
   "metadata": {},
   "outputs": [
    {
     "name": "stdout",
     "output_type": "stream",
     "text": [
      "               name  colours  language  landmass  area\n",
      "0         Australia        3         1         6  7690\n",
      "1         Indonesia        2        10         6  1904\n",
      "2       New-Zealand        3         1         6   268\n",
      "3  Papua-New-Guinea        4         1         6   463\n",
      "4       Philippines        4        10         6   300\n"
     ]
    }
   ],
   "source": [
    "print(df)"
   ]
  },
  {
   "cell_type": "markdown",
   "id": "c580fb63",
   "metadata": {},
   "source": [
    "## Modificação de dados"
   ]
  },
  {
   "cell_type": "markdown",
   "id": "30c59b46",
   "metadata": {},
   "source": [
    "### Inserção"
   ]
  },
  {
   "cell_type": "code",
   "execution_count": 30,
   "id": "f187c461",
   "metadata": {},
   "outputs": [],
   "source": [
    "# Inserção\n",
    "import pandas as pd"
   ]
  },
  {
   "cell_type": "code",
   "execution_count": 31,
   "id": "3fed8645",
   "metadata": {},
   "outputs": [],
   "source": [
    "# Importa as bases de dados\n",
    "flags = pd.read_csv('flags.csv')"
   ]
  },
  {
   "cell_type": "code",
   "execution_count": 32,
   "id": "5ea3e645",
   "metadata": {},
   "outputs": [],
   "source": [
    "# Cria um DataFrame com os dados de um novo país\n",
    "df_novo = pd.DataFrame(\n",
    "{'name':'East Timor','landmass':5,'area':15,'language':10,},index=[0])"
   ]
  },
  {
   "cell_type": "code",
   "execution_count": 33,
   "id": "61e6b8de",
   "metadata": {},
   "outputs": [],
   "source": [
    "# Insere o novo país em flags\n",
    "flags = pd.concat([flags,df_novo],ignore_index = True, sort = False)"
   ]
  },
  {
   "cell_type": "code",
   "execution_count": 34,
   "id": "803d9eba",
   "metadata": {},
   "outputs": [
    {
     "name": "stdout",
     "output_type": "stream",
     "text": [
      "               name  landmass  area  language  religion\n",
      "0       Afghanistan         5   648        10       2.0\n",
      "1           Albania         3    29         6       6.0\n",
      "2           Algeria         4  2388         8       2.0\n",
      "3    American-Samoa         6     0         1       1.0\n",
      "4           Andorra         3     0         6       0.0\n",
      "..              ...       ...   ...       ...       ...\n",
      "190      Yugoslavia         3   256         6       6.0\n",
      "191           Zaire         4   905        10       5.0\n",
      "192          Zambia         4   753        10       5.0\n",
      "193        Zimbabwe         4   391        10       5.0\n",
      "194      East Timor         5    15        10       NaN\n",
      "\n",
      "[195 rows x 5 columns]\n"
     ]
    }
   ],
   "source": [
    "# Imprime o DataFrame alterado\n",
    "print(flags[['name','landmass','area','language','religion']])"
   ]
  },
  {
   "cell_type": "markdown",
   "id": "66a79a54",
   "metadata": {},
   "source": [
    "### Atualização"
   ]
  },
  {
   "cell_type": "code",
   "execution_count": 36,
   "id": "32ccf678",
   "metadata": {},
   "outputs": [],
   "source": [
    "# Atualização\n",
    "import pandas as pd"
   ]
  },
  {
   "cell_type": "code",
   "execution_count": 37,
   "id": "bd863057",
   "metadata": {},
   "outputs": [],
   "source": [
    "# Importa a base de dados\n",
    "flags = pd.read_csv('flags.csv')"
   ]
  },
  {
   "cell_type": "code",
   "execution_count": 38,
   "id": "1174b7fd",
   "metadata": {},
   "outputs": [],
   "source": [
    "# Cria um DataFrame com os dados do novo país\n",
    "df_novo = pd.DataFrame(\n",
    "{'name':'East Timor','landmass':5,'area':15,'language':10,},index=[0])"
   ]
  },
  {
   "cell_type": "code",
   "execution_count": 39,
   "id": "a157da99",
   "metadata": {},
   "outputs": [],
   "source": [
    "# Insere o novo país em flags\n",
    "flags = pd.concat([flags,df_novo],ignore_index = True, sort = False)"
   ]
  },
  {
   "cell_type": "code",
   "execution_count": 40,
   "id": "be5abb0e",
   "metadata": {},
   "outputs": [],
   "source": [
    "# Atualiza o valor do atributo \"religion\"\n",
    "# (não especificado np passo 2)\n",
    "flags.loc[flags['name']=='East Timor','religion']=0"
   ]
  },
  {
   "cell_type": "code",
   "execution_count": 41,
   "id": "a1080463",
   "metadata": {
    "scrolled": true
   },
   "outputs": [
    {
     "name": "stdout",
     "output_type": "stream",
     "text": [
      "               name  landmass  area  language  religion\n",
      "0       Afghanistan         5   648        10       2.0\n",
      "1           Albania         3    29         6       6.0\n",
      "2           Algeria         4  2388         8       2.0\n",
      "3    American-Samoa         6     0         1       1.0\n",
      "4           Andorra         3     0         6       0.0\n",
      "..              ...       ...   ...       ...       ...\n",
      "190      Yugoslavia         3   256         6       6.0\n",
      "191           Zaire         4   905        10       5.0\n",
      "192          Zambia         4   753        10       5.0\n",
      "193        Zimbabwe         4   391        10       5.0\n",
      "194      East Timor         5    15        10       0.0\n",
      "\n",
      "[195 rows x 5 columns]\n"
     ]
    }
   ],
   "source": [
    "# Imprime o DataFrame alterado\n",
    "print(flags[['name','landmass','area','language','religion']])"
   ]
  },
  {
   "cell_type": "markdown",
   "id": "be8f366a",
   "metadata": {},
   "source": [
    "### Exclusão"
   ]
  },
  {
   "cell_type": "code",
   "execution_count": 44,
   "id": "f90d8e47",
   "metadata": {},
   "outputs": [],
   "source": [
    "# Exclusão\n",
    "import pandas as pd"
   ]
  },
  {
   "cell_type": "code",
   "execution_count": 45,
   "id": "cc6751dc",
   "metadata": {},
   "outputs": [],
   "source": [
    "# Importa a base de dados\n",
    "flags = pd.read_csv('flags.csv')"
   ]
  },
  {
   "cell_type": "code",
   "execution_count": 47,
   "id": "b645f8ea",
   "metadata": {},
   "outputs": [],
   "source": [
    "# Mantém apenas os países com verde, amarelo, azul e branco na bandeira\n",
    "flags = flags.loc[(flags['green']==1) &  (flags['gold']==1) & (flags['blue']==1)  & (flags['white']==1)]"
   ]
  },
  {
   "cell_type": "code",
   "execution_count": 48,
   "id": "70a5e576",
   "metadata": {},
   "outputs": [
    {
     "name": "stdout",
     "output_type": "stream",
     "text": [
      "                         name  green  gold  blue  white\n",
      "17                     Belize      1     1     1      1\n",
      "19                    Bermuda      1     1     1      1\n",
      "23                     Brazil      1     1     1      1\n",
      "24       British-Virgin-Isles      1     1     1      1\n",
      "26                   Bulgaria      1     1     1      1\n",
      "33             Cayman-Islands      1     1     1      1\n",
      "34   Central-African-Republic      1     1     1      1\n",
      "48                   Dominica      1     1     1      1\n",
      "56         Falklands-Malvinas      1     1     1      1\n",
      "57                       Fiji      1     1     1      1\n",
      "71                       Guam      1     1     1      1\n",
      "78                  Hong-Kong      1     1     1      1\n",
      "116                Montserrat      1     1     1      1\n",
      "135                   Parguay      1     1     1      1\n",
      "139                  Portugal      1     1     1      1\n",
      "142                   Romania      1     1     1      1\n",
      "151           Soloman-Islands      1     1     1      1\n",
      "158                 St-Helena      1     1     1      1\n",
      "161                St-Vincent      1     1     1      1\n",
      "176       Turks-Cocos-Islands      1     1     1      1\n",
      "182           US-Virgin-Isles      1     1     1      1\n",
      "187                 Venezuela      1     1     1      1\n"
     ]
    }
   ],
   "source": [
    "# Imprime o DataFrame alterado\n",
    "print(flags[['name','green','gold','blue','white']])"
   ]
  },
  {
   "cell_type": "markdown",
   "id": "8fa6da10",
   "metadata": {},
   "source": [
    "## Funções aplicadas sobre colunas"
   ]
  },
  {
   "cell_type": "markdown",
   "id": "ace3a04e",
   "metadata": {},
   "source": [
    "### Substituindo valores"
   ]
  },
  {
   "cell_type": "code",
   "execution_count": 2,
   "id": "b24c4b2d",
   "metadata": {},
   "outputs": [],
   "source": [
    "# Método replace()\n",
    "import pandas as pd"
   ]
  },
  {
   "cell_type": "code",
   "execution_count": 3,
   "id": "5d683e2d",
   "metadata": {},
   "outputs": [],
   "source": [
    "# Importa as bases de dados\n",
    "flags = pd.read_csv('flags.csv')"
   ]
  },
  {
   "cell_type": "code",
   "execution_count": 4,
   "id": "1d89921a",
   "metadata": {},
   "outputs": [],
   "source": [
    "# replace\n",
    "flags['green']=flags['green'].replace([0,1],['Não','Sim'])"
   ]
  },
  {
   "cell_type": "code",
   "execution_count": 6,
   "id": "0c07b326",
   "metadata": {},
   "outputs": [
    {
     "name": "stdout",
     "output_type": "stream",
     "text": [
      "               name green\n",
      "0       Afghanistan   Sim\n",
      "1           Albania   Não\n",
      "2           Algeria   Sim\n",
      "3    American-Samoa   Não\n",
      "4           Andorra   Não\n",
      "..              ...   ...\n",
      "189   Western-Samoa   Não\n",
      "190      Yugoslavia   Não\n",
      "191           Zaire   Sim\n",
      "192          Zambia   Sim\n",
      "193        Zimbabwe   Sim\n",
      "\n",
      "[194 rows x 2 columns]\n"
     ]
    }
   ],
   "source": [
    "# imprime o DataFrame alterado\n",
    "print(flags[['name','green']])"
   ]
  },
  {
   "cell_type": "markdown",
   "id": "26ad3425",
   "metadata": {},
   "source": [
    "### Limpeza de dados"
   ]
  },
  {
   "cell_type": "markdown",
   "id": "6f3c0a5f",
   "metadata": {},
   "source": [
    "df['x'] = df['x'].replace(999999,np.nan)"
   ]
  },
  {
   "cell_type": "markdown",
   "id": "ef8f500c",
   "metadata": {},
   "source": [
    "\"\"\"\n",
    "Recorde que NaN é o valor adotado pelas bibliotecas pandas e NumPy para representar valores ausentes; \n",
    "no entanto, a constante np.nan é, de fato, proveniente da biblioteca NumPy. Desta forma, \n",
    "para que o comando anterior funcione, é preciso realizar a importação da NumPy e da pandas, \n",
    "no início do código do programa, como mostrado a seguir:\n",
    "\n",
    "\"\"\""
   ]
  },
  {
   "cell_type": "markdown",
   "id": "192a0a11",
   "metadata": {},
   "source": [
    "import numpy as np\n",
    "import pandas as pd"
   ]
  },
  {
   "cell_type": "markdown",
   "id": "22fc9879",
   "metadata": {},
   "source": [
    "### Formatando valores"
   ]
  },
  {
   "cell_type": "code",
   "execution_count": 8,
   "id": "7cdbbc24",
   "metadata": {},
   "outputs": [],
   "source": [
    "# Método apply()\n",
    "import pandas as pd"
   ]
  },
  {
   "cell_type": "code",
   "execution_count": 9,
   "id": "6be9f61f",
   "metadata": {},
   "outputs": [],
   "source": [
    "# Importa as bases de dados\n",
    "flags = pd.read_csv('flags.csv')"
   ]
  },
  {
   "cell_type": "code",
   "execution_count": 10,
   "id": "eb683cdc",
   "metadata": {},
   "outputs": [],
   "source": [
    "# apply\n",
    "flags['name']=flags['name'].apply(str.upper)"
   ]
  },
  {
   "cell_type": "code",
   "execution_count": 11,
   "id": "5f5e3dcd",
   "metadata": {
    "scrolled": true
   },
   "outputs": [
    {
     "name": "stdout",
     "output_type": "stream",
     "text": [
      "               name  landmass  zone  area  population  language  religion  \\\n",
      "0       AFGHANISTAN         5     1   648          16        10         2   \n",
      "1           ALBANIA         3     1    29           3         6         6   \n",
      "2           ALGERIA         4     1  2388          20         8         2   \n",
      "3    AMERICAN-SAMOA         6     3     0           0         1         1   \n",
      "4           ANDORRA         3     1     0           0         6         0   \n",
      "..              ...       ...   ...   ...         ...       ...       ...   \n",
      "189   WESTERN-SAMOA         6     3     3           0         1         1   \n",
      "190      YUGOSLAVIA         3     1   256          22         6         6   \n",
      "191           ZAIRE         4     2   905          28        10         5   \n",
      "192          ZAMBIA         4     2   753           6        10         5   \n",
      "193        ZIMBABWE         4     2   391           8        10         5   \n",
      "\n",
      "     bars  stripes  colours  ...  saltires  quarters  sunstars  crescent  \\\n",
      "0       0        3        5  ...         0         0         1         0   \n",
      "1       0        0        3  ...         0         0         1         0   \n",
      "2       2        0        3  ...         0         0         1         1   \n",
      "3       0        0        5  ...         0         0         0         0   \n",
      "4       3        0        3  ...         0         0         0         0   \n",
      "..    ...      ...      ...  ...       ...       ...       ...       ...   \n",
      "189     0        0        3  ...         0         1         5         0   \n",
      "190     0        3        4  ...         0         0         1         0   \n",
      "191     0        0        4  ...         0         0         0         0   \n",
      "192     3        0        4  ...         0         0         0         0   \n",
      "193     0        7        5  ...         0         0         1         0   \n",
      "\n",
      "     triangle  icon  animate text  topleft  botright  \n",
      "0           0     1        0    0    black     green  \n",
      "1           0     0        1    0      red       red  \n",
      "2           0     0        0    0    green     white  \n",
      "3           1     1        1    0     blue       red  \n",
      "4           0     0        0    0     blue       red  \n",
      "..        ...   ...      ...  ...      ...       ...  \n",
      "189         0     0        0    0     blue       red  \n",
      "190         0     0        0    0     blue       red  \n",
      "191         0     1        1    0    green     green  \n",
      "192         0     0        1    0    green     brown  \n",
      "193         1     1        1    0    green     green  \n",
      "\n",
      "[194 rows x 30 columns]\n"
     ]
    }
   ],
   "source": [
    "# Imprime o DataFrame alterado\n",
    "print(flags)"
   ]
  },
  {
   "cell_type": "markdown",
   "id": "9edb0039",
   "metadata": {},
   "source": [
    "## Discretização"
   ]
  },
  {
   "cell_type": "markdown",
   "id": "ac2f53ea",
   "metadata": {},
   "source": [
    "### Criando funções"
   ]
  },
  {
   "cell_type": "code",
   "execution_count": 12,
   "id": "5360b8b8",
   "metadata": {},
   "outputs": [],
   "source": [
    "# Observe que se trata de uma função de discretização, pois ela recebe como entrada um valor contínuo (valor da área)\n",
    "# e retorna como saída um valor categórico, pertencente ao domínio {\"A\",\"B\",\"C\",\"D\",\"F\",\"G\",\"H\"}."
   ]
  },
  {
   "cell_type": "code",
   "execution_count": 13,
   "id": "9a9fcefb",
   "metadata": {},
   "outputs": [],
   "source": [
    "# Criação e utilização de Função\n",
    "\n",
    "def classe_area(area):\n",
    "    if(area<10):\n",
    "        return 'F'\n",
    "    elif (area >=10 and area < 50):\n",
    "        return 'E'\n",
    "    elif (area >= 50 and area < 100):\n",
    "        return 'D'\n",
    "    elif (area >= 100 and area < 500):\n",
    "        return 'C'\n",
    "    elif (area >= 500 and area < 1000):\n",
    "        return 'B'\n",
    "    else:\n",
    "        return 'A'"
   ]
  },
  {
   "cell_type": "code",
   "execution_count": 14,
   "id": "944c58bd",
   "metadata": {},
   "outputs": [
    {
     "name": "stdout",
     "output_type": "stream",
     "text": [
      "Classe de extensão territorial:\n",
      "Brasil : A\n",
      "Moçambique : B\n",
      "Portugal ; D\n",
      "Timor Leste : E\n"
     ]
    }
   ],
   "source": [
    "print('Classe de extensão territorial:')\n",
    "print('Brasil :', classe_area(8515))\n",
    "print('Moçambique :', classe_area(801))\n",
    "print('Portugal ;', classe_area(92))\n",
    "print('Timor Leste :', classe_area(14))"
   ]
  },
  {
   "cell_type": "markdown",
   "id": "7afbb942",
   "metadata": {},
   "source": [
    "### Aplicando a função criada"
   ]
  },
  {
   "cell_type": "code",
   "execution_count": 15,
   "id": "8ffb38ae",
   "metadata": {},
   "outputs": [],
   "source": [
    "# Aplicando a função classe_area()\n",
    "import pandas as pd"
   ]
  },
  {
   "cell_type": "code",
   "execution_count": 16,
   "id": "08693582",
   "metadata": {},
   "outputs": [],
   "source": [
    "# Define a função\n",
    "\n",
    "def classe_area(area):\n",
    "    if(area<10):\n",
    "        return 'F'\n",
    "    elif (area >=10 and area < 50):\n",
    "        return 'E'\n",
    "    elif (area >= 50 and area < 100):\n",
    "        return 'D'\n",
    "    elif (area >= 100 and area < 500):\n",
    "        return 'C'\n",
    "    elif (area >= 500 and area < 1000):\n",
    "        return 'B'\n",
    "    else:\n",
    "        return 'A'"
   ]
  },
  {
   "cell_type": "code",
   "execution_count": 17,
   "id": "68ecd026",
   "metadata": {},
   "outputs": [],
   "source": [
    "# Importa as bases de dados\n",
    "flags = pd.read_csv('flags.csv')"
   ]
  },
  {
   "cell_type": "code",
   "execution_count": 18,
   "id": "8f78a088",
   "metadata": {},
   "outputs": [],
   "source": [
    "# aplica a função com apply(), criando novo atributo\n",
    "flags['classe_area'] = flags['area'].apply(classe_area)"
   ]
  },
  {
   "cell_type": "code",
   "execution_count": 19,
   "id": "3d7a2768",
   "metadata": {},
   "outputs": [
    {
     "name": "stdout",
     "output_type": "stream",
     "text": [
      "               name  area classe_area\n",
      "0       Afghanistan   648           B\n",
      "1           Albania    29           E\n",
      "2           Algeria  2388           A\n",
      "3    American-Samoa     0           F\n",
      "4           Andorra     0           F\n",
      "..              ...   ...         ...\n",
      "189   Western-Samoa     3           F\n",
      "190      Yugoslavia   256           C\n",
      "191           Zaire   905           B\n",
      "192          Zambia   753           B\n",
      "193        Zimbabwe   391           C\n",
      "\n",
      "[194 rows x 3 columns]\n"
     ]
    }
   ],
   "source": [
    "# Imprime o DataFrame alterado\n",
    "print(flags[['name', 'area', 'classe_area']])"
   ]
  },
  {
   "cell_type": "markdown",
   "id": "e0f29b16",
   "metadata": {},
   "source": [
    "\"\"\"\n",
    "Adicionalmente, veja que o programa também exemplificou um processo construção de atributo. Isso porque criamos um novo \n",
    "atributo no DataFrame flags, denominado classe_area, cujo valor foi definido a partir do resultado do apply().\n",
    "\"\"\""
   ]
  },
  {
   "cell_type": "markdown",
   "id": "12e26fd0",
   "metadata": {},
   "source": [
    "### Normalização"
   ]
  },
  {
   "cell_type": "markdown",
   "id": "692b169d",
   "metadata": {},
   "source": [
    "#### Normalizando atributos numéricos"
   ]
  },
  {
   "cell_type": "code",
   "execution_count": 21,
   "id": "806487e2",
   "metadata": {},
   "outputs": [],
   "source": [
    "# Existem diversas fórmulas que podem ser utilizadas para mapear todos os valores de um atributo para a faixa [0.0, 1.0]. \n",
    "# Uma das mais simples é apresentada a seguir. Ela pode ser utilizada sobre qualquer atributo que armazene valores contínuos \n",
    "# positivos. valor_normalizado = (x-min(X))/(max(X)-min(X))\n",
    "# Nesta fórmula, considere que x e o valor real do atributo numérico X em uma dada linha do DataFrame. Por sua vez, min(X) e \n",
    "# max(X) consistem, respectivamente, no menor e no maior valor de ​ ​X​ ​ em toda a base de dados. A fórmula apresentada \n",
    "# retornará o valor normalizado de x, isto é o valor convertido para algum número localizado entre 0 e 1. No exemplo a seguir, \n",
    "# mostra-se uma aplicação prática da fórmula: ela é empregada para computar o valor normalizado do atributo area de todos os \n",
    "# países de flags.\n",
    " "
   ]
  },
  {
   "cell_type": "code",
   "execution_count": 23,
   "id": "1c042cbf",
   "metadata": {},
   "outputs": [],
   "source": [
    "# Normalização\n",
    "import pandas as pd"
   ]
  },
  {
   "cell_type": "code",
   "execution_count": 24,
   "id": "b252603d",
   "metadata": {},
   "outputs": [],
   "source": [
    "# Importa as bases de dados\n",
    "flags = pd.read_csv('flags.csv')"
   ]
  },
  {
   "cell_type": "code",
   "execution_count": 25,
   "id": "2b991145",
   "metadata": {},
   "outputs": [],
   "source": [
    "# Normaliza a área\n",
    "area_max = max(flags['area'])\n",
    "area_min = min(flags['area'])"
   ]
  },
  {
   "cell_type": "code",
   "execution_count": 26,
   "id": "944d26fc",
   "metadata": {},
   "outputs": [],
   "source": [
    "flags['area_norm'] = (flags['area']-area_min) / (area_max-area_min)"
   ]
  },
  {
   "cell_type": "code",
   "execution_count": 27,
   "id": "85f9ecbd",
   "metadata": {},
   "outputs": [
    {
     "name": "stdout",
     "output_type": "stream",
     "text": [
      "               name  area  area_norm\n",
      "0       Afghanistan   648   0.028926\n",
      "1           Albania    29   0.001295\n",
      "2           Algeria  2388   0.106598\n",
      "3    American-Samoa     0   0.000000\n",
      "4           Andorra     0   0.000000\n",
      "..              ...   ...        ...\n",
      "189   Western-Samoa     3   0.000134\n",
      "190      Yugoslavia   256   0.011428\n",
      "191           Zaire   905   0.040398\n",
      "192          Zambia   753   0.033613\n",
      "193        Zimbabwe   391   0.017454\n",
      "\n",
      "[194 rows x 3 columns]\n"
     ]
    }
   ],
   "source": [
    "# Imprime o DataFrame alterado\n",
    "print(flags[['name', 'area', 'area_norm']])\n"
   ]
  },
  {
   "cell_type": "markdown",
   "id": "4eb6727d",
   "metadata": {},
   "source": [
    "#### Normalizando atributos categóricos"
   ]
  },
  {
   "cell_type": "code",
   "execution_count": 28,
   "id": "2408c653",
   "metadata": {},
   "outputs": [],
   "source": [
    "# Em uma base de dados, os atributos categóricos costumam apresentar grande variação no número de categorias. \n",
    "# Veja a seguir o número de categorias de três diferentes atributos da base de dados flags:\n",
    "# religion: 8 categorias / language: 10 categorias / red: 2 categorias (variável binária)"
   ]
  },
  {
   "cell_type": "code",
   "execution_count": 29,
   "id": "6e70c97e",
   "metadata": {},
   "outputs": [],
   "source": [
    "# Esta variabilidade também pode atrapalhar alguns algoritmos de ciência de dados e, por isso, um tipo de transformação muitas \n",
    "# vezes necessário consiste na conversão de todos os atributos categóricos com mais de 2 categorias (como é o caso de religion\n",
    "# e language) em k atributos binários, onde k é o número original de categorias do atributo. Parece complicado, mas o exemplo a\n",
    "# seguir deixará tudo mais claro. Considere o atributo language, cujo domínio é: {\"1=Inglês\", \"2=Espanhol\", \"3=Francês\", \n",
    "# \"4=Alemão\", \"5=Eslavo\", \"6=Outro idioma Indo-Europeu\", \"7=Chinês\", \"8=Árabe\", \"9=Japonês/Turco/Finlandês/Húngaro\", \"10=Outro\"}\n",
    "# Como esse atributo possui 10 categorias distintas, então ele será transformado em 10 atributos binários, conforme indicado a \n",
    "# seguir:"
   ]
  },
  {
   "cell_type": "code",
   "execution_count": 31,
   "id": "c1d18cc1",
   "metadata": {},
   "outputs": [],
   "source": [
    "# lang_1: indica se idioma predominante do país é Inglês (0=Não, 1=Sim)\n",
    "# lang_2: Idem para Espanhol \n",
    "# lang_3: Idem para Francês  \n",
    "# lang_4: Idem para Alemão \n",
    "# lang_5: Idem para Eslavo\n",
    "# lang_6: Idem para Outro idioma Indo-Europeu\n",
    "# lang_7: Chinês \n",
    "# lang_8: Árabe \n",
    "# lang_9: Japonês/Turco/Finlandês/Húngaro\n",
    "# lang_10: Idem para Outro"
   ]
  },
  {
   "cell_type": "code",
   "execution_count": 32,
   "id": "2d08e8d4",
   "metadata": {},
   "outputs": [],
   "source": [
    "# Normalização de atributo categórico\n",
    "import pandas as pd"
   ]
  },
  {
   "cell_type": "code",
   "execution_count": 33,
   "id": "1428a274",
   "metadata": {},
   "outputs": [],
   "source": [
    "# Importa as bases de dados\n",
    "flags = pd.read_csv('flags.csv')"
   ]
  },
  {
   "cell_type": "code",
   "execution_count": 34,
   "id": "006a8727",
   "metadata": {},
   "outputs": [],
   "source": [
    "# Realiza a transformação com get_dummies() e join()\n",
    "dummies = pd.get_dummies(flags['language'],prefix='lg')\n",
    "flags = flags.join(dummies)"
   ]
  },
  {
   "cell_type": "code",
   "execution_count": 35,
   "id": "63996937",
   "metadata": {},
   "outputs": [
    {
     "name": "stdout",
     "output_type": "stream",
     "text": [
      "     language  lg_1  lg_2  lg_3  lg_4  lg_5  lg_6  lg_7  lg_8  lg_9  lg_10\n",
      "0          10     0     0     0     0     0     0     0     0     0      1\n",
      "1           6     0     0     0     0     0     1     0     0     0      0\n",
      "2           8     0     0     0     0     0     0     0     1     0      0\n",
      "3           1     1     0     0     0     0     0     0     0     0      0\n",
      "4           6     0     0     0     0     0     1     0     0     0      0\n",
      "..        ...   ...   ...   ...   ...   ...   ...   ...   ...   ...    ...\n",
      "189         1     1     0     0     0     0     0     0     0     0      0\n",
      "190         6     0     0     0     0     0     1     0     0     0      0\n",
      "191        10     0     0     0     0     0     0     0     0     0      1\n",
      "192        10     0     0     0     0     0     0     0     0     0      1\n",
      "193        10     0     0     0     0     0     0     0     0     0      1\n",
      "\n",
      "[194 rows x 11 columns]\n"
     ]
    }
   ],
   "source": [
    "print(flags[[\"language\", \"lg_1\", \"lg_2\", \"lg_3\", \"lg_4\", \"lg_5\", \"lg_6\", \"lg_7\", \"lg_8\", \"lg_9\", \"lg_10\"]])"
   ]
  }
 ],
 "metadata": {
  "kernelspec": {
   "display_name": "Python 3 (ipykernel)",
   "language": "python",
   "name": "python3"
  },
  "language_info": {
   "codemirror_mode": {
    "name": "ipython",
    "version": 3
   },
   "file_extension": ".py",
   "mimetype": "text/x-python",
   "name": "python",
   "nbconvert_exporter": "python",
   "pygments_lexer": "ipython3",
   "version": "3.10.4"
  },
  "toc": {
   "base_numbering": 1,
   "nav_menu": {},
   "number_sections": true,
   "sideBar": true,
   "skip_h1_title": false,
   "title_cell": "Table of Contents",
   "title_sidebar": "Contents",
   "toc_cell": false,
   "toc_position": {},
   "toc_section_display": true,
   "toc_window_display": false
  },
  "varInspector": {
   "cols": {
    "lenName": 16,
    "lenType": 16,
    "lenVar": 40
   },
   "kernels_config": {
    "python": {
     "delete_cmd_postfix": "",
     "delete_cmd_prefix": "del ",
     "library": "var_list.py",
     "varRefreshCmd": "print(var_dic_list())"
    },
    "r": {
     "delete_cmd_postfix": ") ",
     "delete_cmd_prefix": "rm(",
     "library": "var_list.r",
     "varRefreshCmd": "cat(var_dic_list()) "
    }
   },
   "types_to_exclude": [
    "module",
    "function",
    "builtin_function_or_method",
    "instance",
    "_Feature"
   ],
   "window_display": false
  }
 },
 "nbformat": 4,
 "nbformat_minor": 5
}
