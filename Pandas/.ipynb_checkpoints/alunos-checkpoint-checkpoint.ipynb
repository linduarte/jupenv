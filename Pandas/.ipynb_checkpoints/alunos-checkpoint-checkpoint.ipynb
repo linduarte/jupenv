{
 "cells": [
  {
   "cell_type": "markdown",
   "id": "a9937e38",
   "metadata": {},
   "source": [
    "#P02: Propriedades básicas das Series"
   ]
  },
  {
   "cell_type": "code",
   "execution_count": 2,
   "id": "a3e26abf",
   "metadata": {},
   "outputs": [],
   "source": [
    "import pandas as pd"
   ]
  },
  {
   "cell_type": "markdown",
   "id": "53e25170",
   "metadata": {},
   "source": [
    "#cria a Series \"alunos\""
   ]
  },
  {
   "cell_type": "code",
   "execution_count": 3,
   "id": "a8e11629",
   "metadata": {},
   "outputs": [],
   "source": [
    "alunos=pd.Series({'M02':'Bob','M05':'Dayse','M13':'Bill','M14':'Cris','M19':'Jimi'})"
   ]
  },
  {
   "cell_type": "markdown",
   "id": "61f279e3",
   "metadata": {},
   "source": [
    "#atribui nomes para os vetores de dados e rótulos"
   ]
  },
  {
   "cell_type": "code",
   "execution_count": 4,
   "id": "061e1ea0",
   "metadata": {},
   "outputs": [],
   "source": [
    "alunos.name=\"alunos\"\n",
    "alunos.index.name=\"matrículas\"\n"
   ]
  },
  {
   "cell_type": "markdown",
   "id": "c8a67574",
   "metadata": {},
   "source": [
    "#recupera e imprime as propriedades"
   ]
  },
  {
   "cell_type": "code",
   "execution_count": 5,
   "id": "9cce1596",
   "metadata": {
    "scrolled": false
   },
   "outputs": [
    {
     "name": "stdout",
     "output_type": "stream",
     "text": [
      "matrículas\n",
      "M02      Bob\n",
      "M05    Dayse\n",
      "M13     Bill\n",
      "M14     Cris\n",
      "M19     Jimi\n",
      "Name: alunos, dtype: object\n",
      "---------\n",
      "número de elementos: 5\n",
      "vetor de dados: ['Bob' 'Dayse' 'Bill' 'Cris' 'Jimi']\n",
      "vetor de rótulos: Index(['M02', 'M05', 'M13', 'M14', 'M19'], dtype='object', name='matrículas')\n",
      "tipo type: <class 'pandas.core.series.Series'>\n",
      "dtype da Series: object\n",
      "dtype do vetor de rótulos: object\n"
     ]
    }
   ],
   "source": [
    "print(alunos)\n",
    "print('---------')\n",
    "tamanho=alunos.size\n",
    "dados=alunos.values\n",
    "rotulos=alunos.index\n",
    "alunos_tipo=type(alunos)\n",
    "alunos_dtype=alunos.dtype\n",
    "alunos_idx_dtype=alunos.index.dtype\n",
    "\n",
    "print('número de elementos:', tamanho)\n",
    "print('vetor de dados:',dados)\n",
    "print('vetor de rótulos:',rotulos)\n",
    "print('tipo type:',alunos_tipo)\n",
    "print('dtype da Series:',alunos_dtype)\n",
    "print('dtype do vetor de rótulos:',alunos_idx_dtype)"
   ]
  },
  {
   "cell_type": "markdown",
   "id": "0c391278",
   "metadata": {},
   "source": [
    "#Técnicas para consulta e modificação de dados"
   ]
  },
  {
   "cell_type": "markdown",
   "id": "6dfa36fc",
   "metadata": {},
   "source": [
    "#Indexação tradicional - Recupera um elemento da series"
   ]
  },
  {
   "cell_type": "code",
   "execution_count": 6,
   "id": "1d6bf62f",
   "metadata": {},
   "outputs": [
    {
     "data": {
      "text/plain": [
       "'Bob'"
      ]
     },
     "execution_count": 6,
     "metadata": {},
     "output_type": "execute_result"
    }
   ],
   "source": [
    "alunos[0]"
   ]
  },
  {
   "cell_type": "code",
   "execution_count": 7,
   "id": "eeb07f99",
   "metadata": {},
   "outputs": [
    {
     "data": {
      "text/plain": [
       "'Dayse'"
      ]
     },
     "execution_count": 7,
     "metadata": {},
     "output_type": "execute_result"
    }
   ],
   "source": [
    "alunos[1]"
   ]
  },
  {
   "cell_type": "code",
   "execution_count": 8,
   "id": "da8e2f3b",
   "metadata": {
    "scrolled": true
   },
   "outputs": [
    {
     "data": {
      "text/plain": [
       "'Cris'"
      ]
     },
     "execution_count": 8,
     "metadata": {},
     "output_type": "execute_result"
    }
   ],
   "source": [
    "alunos['M14']"
   ]
  },
  {
   "cell_type": "code",
   "execution_count": 9,
   "id": "5df0f5fc",
   "metadata": {},
   "outputs": [
    {
     "data": {
      "text/plain": [
       "'Jimi'"
      ]
     },
     "execution_count": 9,
     "metadata": {},
     "output_type": "execute_result"
    }
   ],
   "source": [
    "alunos[alunos.size-1]"
   ]
  },
  {
   "cell_type": "code",
   "execution_count": 10,
   "id": "247dc974",
   "metadata": {
    "scrolled": true
   },
   "outputs": [
    {
     "data": {
      "text/plain": [
       "'Jimi'"
      ]
     },
     "execution_count": 10,
     "metadata": {},
     "output_type": "execute_result"
    }
   ],
   "source": [
    "alunos[-1]"
   ]
  },
  {
   "cell_type": "markdown",
   "id": "c32eeb8b",
   "metadata": {},
   "source": [
    "#Fatiamento (slicing) - Recupera mais de um elemento\n",
    "Por intervalos (ranges) definidos por dois pontos ':' e por listas"
   ]
  },
  {
   "cell_type": "code",
   "execution_count": 1,
   "id": "4017e132",
   "metadata": {},
   "outputs": [
    {
     "data": {
      "text/plain": [
       "5"
      ]
     },
     "execution_count": 1,
     "metadata": {},
     "output_type": "execute_result"
    }
   ],
   "source": [
    "variable = 5\n",
    "variable"
   ]
  },
  {
   "cell_type": "code",
   "execution_count": null,
   "id": "8786034c",
   "metadata": {},
   "outputs": [],
   "source": []
  }
 ],
 "metadata": {
  "kernelspec": {
   "display_name": "Python 3 (ipykernel)",
   "language": "python",
   "name": "python3"
  },
  "language_info": {
   "codemirror_mode": {
    "name": "ipython",
    "version": 3
   },
   "file_extension": ".py",
   "mimetype": "text/x-python",
   "name": "python",
   "nbconvert_exporter": "python",
   "pygments_lexer": "ipython3",
   "version": "3.10.4"
  },
  "toc": {
   "base_numbering": 1,
   "nav_menu": {},
   "number_sections": true,
   "sideBar": true,
   "skip_h1_title": false,
   "title_cell": "Table of Contents",
   "title_sidebar": "Contents",
   "toc_cell": false,
   "toc_position": {},
   "toc_section_display": true,
   "toc_window_display": false
  },
  "varInspector": {
   "cols": {
    "lenName": 16,
    "lenType": 16,
    "lenVar": 40
   },
   "kernels_config": {
    "python": {
     "delete_cmd_postfix": "",
     "delete_cmd_prefix": "del ",
     "library": "var_list.py",
     "varRefreshCmd": "print(var_dic_list())"
    },
    "r": {
     "delete_cmd_postfix": ") ",
     "delete_cmd_prefix": "rm(",
     "library": "var_list.r",
     "varRefreshCmd": "cat(var_dic_list()) "
    }
   },
   "types_to_exclude": [
    "module",
    "function",
    "builtin_function_or_method",
    "instance",
    "_Feature"
   ],
   "window_display": false
  }
 },
 "nbformat": 4,
 "nbformat_minor": 5
}
