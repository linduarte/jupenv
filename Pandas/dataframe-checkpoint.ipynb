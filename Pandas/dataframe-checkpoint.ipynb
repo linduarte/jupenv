{
 "cells": [
  {
   "cell_type": "markdown",
   "id": "b2f80bf1",
   "metadata": {},
   "source": [
    "Capítulo 3 - A estrutura de dados DataFrame"
   ]
  },
  {
   "cell_type": "code",
   "execution_count": 2,
   "id": "cd0eac4c",
   "metadata": {},
   "outputs": [
    {
     "ename": "ModuleNotFoundError",
     "evalue": "No module named 'pandas'",
     "output_type": "error",
     "traceback": [
      "\u001b[1;31m---------------------------------------------------------------------------\u001b[0m",
      "\u001b[1;31mModuleNotFoundError\u001b[0m                       Traceback (most recent call last)",
      "\u001b[1;32mc:\\Users\\clldu\\OneDrive\\Python\\learn_ground\\jupyter_ground\\my_notebooks\\Pandas\\dataframe-checkpoint.ipynb Célula: 2\u001b[0m in \u001b[0;36m<cell line: 1>\u001b[1;34m()\u001b[0m\n\u001b[1;32m----> <a href='vscode-notebook-cell:/c%3A/Users/clldu/OneDrive/Python/learn_ground/jupyter_ground/my_notebooks/Pandas/dataframe-checkpoint.ipynb#ch0000001?line=0'>1</a>\u001b[0m \u001b[39mimport\u001b[39;00m \u001b[39mpandas\u001b[39;00m \u001b[39mas\u001b[39;00m \u001b[39mpd\u001b[39;00m\n",
      "\u001b[1;31mModuleNotFoundError\u001b[0m: No module named 'pandas'"
     ]
    }
   ],
   "source": [
    "import pandas as pd"
   ]
  },
  {
   "cell_type": "code",
   "execution_count": null,
   "id": "477456f5",
   "metadata": {},
   "outputs": [
    {
     "name": "stdout",
     "output_type": "stream",
     "text": [
      "           nome continente  extensão  corVerde\n",
      "AR    Argentina    América      2780         0\n",
      "BR       Brasil    América      8511         1\n",
      "FR       França     Europa       644         0\n",
      "IT       Itália     Europa       301         1\n",
      "UK  Reino Unido     Europa       244         0\n"
     ]
    }
   ],
   "source": [
    "#Cria o DataFrame\n",
    "dados={'nome':['Argentina','Brasil','França','Itália','Reino Unido'],\n",
    "    'continente':['América','América','Europa','Europa','Europa'],'extensão':[2780,8511,644,301,244],\n",
    "            'corVerde':[0,1,0,1,0]\n",
    "      }        \n",
    "siglas=['AR','BR','FR','IT','UK'] \n",
    "paises=pd.DataFrame(dados,index=siglas)\n",
    "#imprime DataFrame\n",
    "print(paises)"
   ]
  },
  {
   "cell_type": "code",
   "execution_count": null,
   "id": "9df59e4b",
   "metadata": {},
   "outputs": [
    {
     "data": {
      "text/plain": [
       "'Todo DataFrame é um objeto do tipo pandas.core.frame.DataFrame\\u200b \\nque possui as seguintes propriedades básicas: \\nshape: formato do DataFrame, ou seja, o seu número de linhas (\\u200b \\u200bshape[0]\\u200b \\u200b) e de colunas (\\u200b \\u200bshape[1]\\nindex: lista com os rótulos das linhas;\\ncolumns: lista com os rótulos das colunas; \\ndtypes: retorna uma Series com os \\u200b \\u200bdtypes\\u200b \\u200b de cada coluna;\\nindex.dtype: \\u200b \\u200bdtype\\u200b \\u200b dos rótulos das linhas.\\n'"
      ]
     },
     "execution_count": 3,
     "metadata": {},
     "output_type": "execute_result"
    }
   ],
   "source": [
    "\"\"\"Todo DataFrame é um objeto do tipo pandas.core.frame.DataFrame​ \n",
    "que possui as seguintes propriedades básicas: \n",
    "shape: formato do DataFrame, ou seja, o seu número de linhas (​ ​shape[0]​ ​) e de colunas (​ ​shape[1]\n",
    "index: lista com os rótulos das linhas;\n",
    "columns: lista com os rótulos das colunas; \n",
    "dtypes: retorna uma Series com os ​ ​dtypes​ ​ de cada coluna;\n",
    "index.dtype: ​ ​dtype​ ​ dos rótulos das linhas.\n",
    "\"\"\""
   ]
  },
  {
   "cell_type": "code",
   "execution_count": null,
   "id": "c93f6cfc",
   "metadata": {},
   "outputs": [
    {
     "name": "stdout",
     "output_type": "stream",
     "text": [
      "--------------\n",
      "número de linhas: 5\n",
      "número de colunas: 4\n",
      "rótulos de linhas: Index(['AR', 'BR', 'FR', 'IT', 'UK'], dtype='object')\n",
      "rótulos de colunas: Index(['nome', 'continente', 'extensão', 'corVerde'], dtype='object')\n",
      "tipo(type):            nome continente  extensão  corVerde\n",
      "AR    Argentina    América      2780         0\n",
      "BR       Brasil    América      8511         1\n",
      "FR       França     Europa       644         0\n",
      "IT       Itália     Europa       301         1\n",
      "UK  Reino Unido     Europa       244         0\n",
      "dtypes das colunas:\n",
      " nome          object\n",
      "continente    object\n",
      "extensão       int64\n",
      "corVerde       int64\n",
      "dtype: object\n",
      "dtype dos rótulos das linhas: object\n"
     ]
    }
   ],
   "source": [
    "# Recupera e imprime as propriedades\n",
    "print('--------------')\n",
    "num_linhas=paises.shape[0]\n",
    "num_colunas=paises.shape[1]\n",
    "indices=paises.index\n",
    "colunas=paises.columns\n",
    "paises_tipo=type(paises)\n",
    "paises_dtypes=paises.dtypes\n",
    "paises_idx_dtype=paises.index.dtype\n",
    "\n",
    "print('número de linhas:',num_linhas)\n",
    "print('número de colunas:',num_colunas)\n",
    "print('rótulos de linhas:',indices)\n",
    "print('rótulos de colunas:',colunas)\n",
    "print('tipo(type):',paises)\n",
    "print('dtypes das colunas:\\n',paises_dtypes)\n",
    "print('dtype dos rótulos das linhas:',paises_idx_dtype)"
   ]
  },
  {
   "cell_type": "code",
   "execution_count": null,
   "id": "bddb0994",
   "metadata": {},
   "outputs": [
    {
     "data": {
      "text/plain": [
       "'\\nAlgumas observações importantes: No vocabulário adotado pela pandas, \\no termo index é sempre utilizado para índices das linhas, \\nnquanto o termo column é utilizado para os índices das colunas.  \\nNão esqueça que a primeira coluna está na posição 0, a segunda, na posição 1 etc. \\nDa mesma forma, a primeira linha está na posição 0, a segunda, na posição 1 etc.\\n'"
      ]
     },
     "execution_count": 5,
     "metadata": {},
     "output_type": "execute_result"
    }
   ],
   "source": [
    "\"\"\"\n",
    "Algumas observações importantes: No vocabulário adotado pela pandas, \n",
    "o termo index é sempre utilizado para índices das linhas, \n",
    "nquanto o termo column é utilizado para os índices das colunas.  \n",
    "Não esqueça que a primeira coluna está na posição 0, a segunda, na posição 1 etc. \n",
    "Da mesma forma, a primeira linha está na posição 0, a segunda, na posição 1 etc.\n",
    "\"\"\""
   ]
  },
  {
   "cell_type": "markdown",
   "id": "db0020b3",
   "metadata": {},
   "source": [
    "Técnicas para consulta e indexação de dados"
   ]
  },
  {
   "cell_type": "code",
   "execution_count": null,
   "id": "3ffc94e0",
   "metadata": {},
   "outputs": [
    {
     "data": {
      "text/plain": [
       "'Brasil'"
      ]
     },
     "execution_count": 6,
     "metadata": {},
     "output_type": "execute_result"
    }
   ],
   "source": [
    "paises.iloc[1][0]\n",
    "# d.iloc[i][j] retorna o valor da célula que ocupa a linha i, coluna j"
   ]
  },
  {
   "cell_type": "code",
   "execution_count": null,
   "id": "5e38f854",
   "metadata": {},
   "outputs": [
    {
     "data": {
      "text/plain": [
       "'Brasil'"
      ]
     },
     "execution_count": 7,
     "metadata": {},
     "output_type": "execute_result"
    }
   ],
   "source": [
    "paises.iat[1,0]\n",
    "# d.iat[i,j] retorna o valor da célula que ocupa a linha i, coluna j "
   ]
  },
  {
   "cell_type": "code",
   "execution_count": null,
   "id": "5c77657f",
   "metadata": {},
   "outputs": [
    {
     "data": {
      "text/plain": [
       "1"
      ]
     },
     "execution_count": 8,
     "metadata": {},
     "output_type": "execute_result"
    }
   ],
   "source": [
    "paises.iloc[3]['corVerde']\n",
    "# d.iloc[i]['col'] retorna o valor da célula que ocupa a linha i, coluna denominada 'col'\n",
    "\n"
   ]
  },
  {
   "cell_type": "code",
   "execution_count": null,
   "id": "5465c7e6",
   "metadata": {},
   "outputs": [
    {
     "data": {
      "text/plain": [
       "'Europa'"
      ]
     },
     "execution_count": 9,
     "metadata": {},
     "output_type": "execute_result"
    }
   ],
   "source": [
    "paises.loc['IT'][1]\n",
    "# d.loc['idx'][j] retorna o valor da célula que ocupa a linha do índice de rótulo 'idx', coluna j       \n",
    "          "
   ]
  },
  {
   "cell_type": "code",
   "execution_count": null,
   "id": "12ab63e2",
   "metadata": {},
   "outputs": [
    {
     "data": {
      "text/plain": [
       "'França'"
      ]
     },
     "execution_count": 10,
     "metadata": {},
     "output_type": "execute_result"
    }
   ],
   "source": [
    "paises.loc['FR']['nome']\n",
    "# d.loc['idx']['col'] retorna o valor da célula que ocupa a linha do índice de rótulo 'idx', \n",
    "# coluna denominada 'col' "
   ]
  },
  {
   "cell_type": "code",
   "execution_count": null,
   "id": "21e8181b",
   "metadata": {},
   "outputs": [
    {
     "data": {
      "text/plain": [
       "'França'"
      ]
     },
     "execution_count": 11,
     "metadata": {},
     "output_type": "execute_result"
    }
   ],
   "source": [
    "paises.at['FR','nome']\n",
    "# d.at['idx','col'] retorna o valor da célula que ocupa a linha do índice de rótulo 'idx', \n",
    "# coluna denominada 'col'"
   ]
  },
  {
   "cell_type": "code",
   "execution_count": null,
   "id": "28ccacda",
   "metadata": {},
   "outputs": [
    {
     "data": {
      "text/plain": [
       "'\\nO fatiamento de DataFrames pode ser realizado com o uso dos métodos iloc()(por posição) e loc()\\n(por rótulo). Na tabela a seguir, são apresentadas as diferentes sintaxes que podem ser empregadas \\npara fatiar colunas ou linhas inteiras. Em todos os casos, o resultado será retornado em objeto do \\ntipo Series.\\n\\n'"
      ]
     },
     "execution_count": 12,
     "metadata": {},
     "output_type": "execute_result"
    }
   ],
   "source": [
    "\"\"\"\n",
    "O fatiamento de DataFrames pode ser realizado com o uso dos métodos iloc()(por posição) e loc()\n",
    "(por rótulo). Na tabela a seguir, são apresentadas as diferentes sintaxes que podem ser empregadas \n",
    "para fatiar colunas ou linhas inteiras. Em todos os casos, o resultado será retornado em objeto do \n",
    "tipo Series.\n",
    "\n",
    "\"\"\""
   ]
  },
  {
   "cell_type": "code",
   "execution_count": null,
   "id": "75b6d40c",
   "metadata": {},
   "outputs": [
    {
     "data": {
      "text/plain": [
       "AR    2780\n",
       "BR    8511\n",
       "FR     644\n",
       "IT     301\n",
       "UK     244\n",
       "Name: extensão, dtype: int64"
      ]
     },
     "execution_count": 13,
     "metadata": {},
     "output_type": "execute_result"
    }
   ],
   "source": [
    "paises['extensão']\n",
    "# d['col'] retorna a coluna de nome 'col' (toda a coluna)"
   ]
  },
  {
   "cell_type": "code",
   "execution_count": null,
   "id": "afb7149a",
   "metadata": {},
   "outputs": [
    {
     "data": {
      "text/plain": [
       "AR    0\n",
       "BR    1\n",
       "FR    0\n",
       "IT    1\n",
       "UK    0\n",
       "Name: corVerde, dtype: int64"
      ]
     },
     "execution_count": 14,
     "metadata": {},
     "output_type": "execute_result"
    }
   ],
   "source": [
    "paises.corVerde\n",
    "# d.col outra forma para retornar a coluna de nome 'col'"
   ]
  },
  {
   "cell_type": "code",
   "execution_count": null,
   "id": "55cc6e51",
   "metadata": {},
   "outputs": [
    {
     "data": {
      "text/plain": [
       "nome           Brasil\n",
       "continente    América\n",
       "extensão         8511\n",
       "corVerde            1\n",
       "Name: BR, dtype: object"
      ]
     },
     "execution_count": 15,
     "metadata": {},
     "output_type": "execute_result"
    }
   ],
   "source": [
    "paises.loc['BR']\n",
    "# d.loc['idx'] retorna a linha associada ao índice de rótulo 'idx' (linha inteira)"
   ]
  },
  {
   "cell_type": "code",
   "execution_count": null,
   "id": "3c5417e3",
   "metadata": {
    "scrolled": false
   },
   "outputs": [
    {
     "data": {
      "text/plain": [
       "nome          França\n",
       "continente    Europa\n",
       "extensão         644\n",
       "corVerde           0\n",
       "Name: FR, dtype: object"
      ]
     },
     "execution_count": 16,
     "metadata": {},
     "output_type": "execute_result"
    }
   ],
   "source": [
    "paises.iloc[2]\n",
    "# d.iloc[i] retorna a linha que ocupa a posição i (linha inteira)"
   ]
  },
  {
   "cell_type": "code",
   "execution_count": null,
   "id": "c1905a4f",
   "metadata": {
    "scrolled": true
   },
   "outputs": [
    {
     "name": "stdout",
     "output_type": "stream",
     "text": [
      "existe o rótulo 'BR'?-> True\n",
      "existe o rótulo 'US'?-> False\n",
      "----------------\n"
     ]
    }
   ],
   "source": [
    "\"\"\"\n",
    "Testa se um dado rotulo de linha existe\n",
    "\"\"\"\n",
    "tem_BR = 'BR' in paises.index\n",
    "tem_US = 'US' in paises.index\n",
    "print(\"existe o rótulo 'BR'?->\",tem_BR)\n",
    "print(\"existe o rótulo 'US'?->\",tem_US)\n",
    "print('----------------')"
   ]
  },
  {
   "cell_type": "code",
   "execution_count": null,
   "id": "3002f8fe",
   "metadata": {},
   "outputs": [
    {
     "name": "stdout",
     "output_type": "stream",
     "text": [
      "existe o rótulo 'corVerde'?-> True\n",
      "existe o rótulo 'corAzul'?-> False\n",
      "----------------\n"
     ]
    }
   ],
   "source": [
    "\"\"\"\n",
    "Testa se um dado rótulo de coluna existe\n",
    "\"\"\"\n",
    "tem_corVerde = 'corVerde'in paises.columns\n",
    "tem_corAzul = 'corAzul'in paises.columns\n",
    "print(\"existe o rótulo 'corVerde'?->\",tem_corVerde)\n",
    "print(\"existe o rótulo 'corAzul'?->\",tem_corAzul)\n",
    "print('----------------')"
   ]
  },
  {
   "cell_type": "code",
   "execution_count": null,
   "id": "7ece93ca",
   "metadata": {},
   "outputs": [
    {
     "name": "stdout",
     "output_type": "stream",
     "text": [
      "existe o valor 'Brasil' na coluna 'nome'?\n",
      "AR    False\n",
      "BR     True\n",
      "FR    False\n",
      "IT    False\n",
      "UK    False\n",
      "Name: nome, dtype: bool\n"
     ]
    }
   ],
   "source": [
    "\"\"\"Testa se um valor faz parte de uma coluna\n",
    "\"\"\"\n",
    "tem_Brasil = paises['nome'].isin(['Brasil'])\n",
    "print(\"existe o valor 'Brasil' na coluna 'nome'?\")\n",
    "print(tem_Brasil)\n"
   ]
  },
  {
   "cell_type": "code",
   "execution_count": null,
   "id": "2f00f303",
   "metadata": {},
   "outputs": [
    {
     "data": {
      "text/plain": [
       "\"\\nPara verificar se um rótulo de linha ou de coluna existe em um DataFrame, você deve aplicar o operador \\nin sobre a lista de rótulos de linha ou de colunas, respectivamente (propriedades index e columns). \\nSe você quiser testar se um valor está armazenado em uma coluna, precisará utilizar o método isin(). \\nEm nosso exemplo, passamos para o método uma lista com um único elemento ('Brasil') e mandamos checar\\na coluna nome. Como resultado, o método indicou True para a sigla BR.\\n\\n\""
      ]
     },
     "execution_count": 20,
     "metadata": {},
     "output_type": "execute_result"
    }
   ],
   "source": [
    "\"\"\"\n",
    "Para verificar se um rótulo de linha ou de coluna existe em um DataFrame, você deve aplicar o operador \n",
    "in sobre a lista de rótulos de linha ou de colunas, respectivamente (propriedades index e columns). \n",
    "Se você quiser testar se um valor está armazenado em uma coluna, precisará utilizar o método isin(). \n",
    "Em nosso exemplo, passamos para o método uma lista com um único elemento ('Brasil') e mandamos checar\n",
    "a coluna nome. Como resultado, o método indicou True para a sigla BR.\n",
    "\n",
    "\"\"\""
   ]
  },
  {
   "cell_type": "markdown",
   "id": "2b76b36f",
   "metadata": {},
   "source": [
    "Modificação\n",
    "Este tópico apresenta as técnicas básicas para inserir e alterar linhas de um DataFrame e para modificar o conteúdo de alguma célula.\n"
   ]
  },
  {
   "cell_type": "code",
   "execution_count": null,
   "id": "b5a517a4",
   "metadata": {},
   "outputs": [
    {
     "name": "stdout",
     "output_type": "stream",
     "text": [
      "DataFrame após as alterações:\n",
      "      nome continente  extensão  corVerde\n",
      "BR  Brasil    América      8512         1\n",
      "FR  França     Europa       644         0\n",
      "IT  Itália     Europa       301         1\n",
      "JP   Japão       Ásia       372         0\n"
     ]
    }
   ],
   "source": [
    "# P14: Modificação de DataFrame\n",
    "# insere o país Japão(JP)\n",
    "paises.loc['JP'] = {'nome':'Japão','continente':'Ásia','extensão':372,'corVerde':0}\n",
    "# altera a extensão do Brasil\n",
    "paises.at['BR','extensão']=8512\n",
    "# remove a Argentina e o Reino Unido\n",
    "paises = paises.drop(['AR','UK'])\n",
    "\n",
    "print('DataFrame após as alterações:')\n",
    "print(paises)"
   ]
  },
  {
   "cell_type": "code",
   "execution_count": null,
   "id": "7ccd14dc",
   "metadata": {},
   "outputs": [
    {
     "data": {
      "text/plain": [
       "'\\nPara inserir o Japão, bastou indicar os dados desse país em um dicionário e realizar a atribuição com\\no uso do método loc(). Caso o DataFrame não possuísse rótulos de linha, seria preciso utilizar o método\\niloc() com o índice da linha a ser inserida. Para alterar uma célula, no caso, a extensão do Brasil, \\nutilizou-se um comando de atribuição simples que empregou o método at() com a indicação dos rótulos de \\nlinha e coluna da célula a ser alterada. Caso o DataFrame não possuísse rótulos de linha, seria preciso \\nutilizar o método iat() com o índice da linha a ser alterada. \\nPor fim, para remover linhas, basta utilizar o método drop() indicando a lista de rótulos de linha \\na serem removidos.\\n\\n'"
      ]
     },
     "execution_count": 22,
     "metadata": {},
     "output_type": "execute_result"
    }
   ],
   "source": [
    "\"\"\"\n",
    "Para inserir o Japão, bastou indicar os dados desse país em um dicionário e realizar a atribuição com\n",
    "o uso do método loc(). Caso o DataFrame não possuísse rótulos de linha, seria preciso utilizar o método\n",
    "iloc() com o índice da linha a ser inserida. Para alterar uma célula, no caso, a extensão do Brasil, \n",
    "utilizou-se um comando de atribuição simples que empregou o método at() com a indicação dos rótulos de \n",
    "linha e coluna da célula a ser alterada. Caso o DataFrame não possuísse rótulos de linha, seria preciso \n",
    "utilizar o método iat() com o índice da linha a ser alterada. \n",
    "Por fim, para remover linhas, basta utilizar o método drop() indicando a lista de rótulos de linha \n",
    "a serem removidos.\n",
    "\n",
    "\"\"\""
   ]
  },
  {
   "cell_type": "markdown",
   "id": "06f08029",
   "metadata": {},
   "source": [
    "Trabalhando com arquivos\n",
    "Importação de arquivos CSV"
   ]
  },
  {
   "cell_type": "code",
   "execution_count": null,
   "id": "56f8a2ba",
   "metadata": {},
   "outputs": [],
   "source": [
    "# P15: Importação de CSV padrão para um DataFrame\n",
    "import pandas as pd\n"
   ]
  },
  {
   "cell_type": "code",
   "execution_count": null,
   "id": "23571d98",
   "metadata": {},
   "outputs": [],
   "source": [
    "paises = pd.read_csv(\"paises.csv\",index_col = \"sigla\")"
   ]
  },
  {
   "cell_type": "code",
   "execution_count": null,
   "id": "a6063328",
   "metadata": {
    "scrolled": true
   },
   "outputs": [
    {
     "name": "stdout",
     "output_type": "stream",
     "text": [
      "              nome continente  extensao  corVerde\n",
      "sigla                                            \n",
      "AR       Argentina    América      2780         0\n",
      "BR          Brasil    América      8511         1\n",
      "FR          França     Europa       644         0\n",
      "IT          Itália     Europa       301         1\n",
      "UK     Reino Unido     Europa       244         0\n"
     ]
    }
   ],
   "source": [
    "print(paises)"
   ]
  },
  {
   "cell_type": "code",
   "execution_count": null,
   "id": "2412b7bd",
   "metadata": {},
   "outputs": [
    {
     "name": "stdout",
     "output_type": "stream",
     "text": [
      "  matrícula  nota1  nota2\n",
      "0  M0012017    9.8    9.5\n",
      "1  M0022017    5.3    4.1\n",
      "2  M0032017    2.5    8.0\n",
      "3  M0042017    7.5    7.5\n"
     ]
    }
   ],
   "source": [
    "# P16: Importação de CSV sem cabeçalho e com separador \";\"\n",
    "notas = pd.read_csv(\"notas.csv\",sep=\";\",\n",
    "                    names=['matrícula','nota1','nota2'])\n",
    "print(notas)"
   ]
  },
  {
   "cell_type": "code",
   "execution_count": null,
   "id": "1f56d317",
   "metadata": {},
   "outputs": [],
   "source": [
    "import pandas as pd"
   ]
  },
  {
   "cell_type": "code",
   "execution_count": null,
   "id": "1a780b41",
   "metadata": {},
   "outputs": [],
   "source": [
    "serie_gols = pd.read_csv(\"gols.txt\",sep = ' ', index_col = 0).squeeze ()"
   ]
  },
  {
   "cell_type": "code",
   "execution_count": null,
   "id": "60206dfb",
   "metadata": {},
   "outputs": [],
   "source": [
    "serie_gols = pd.to_datetime(serie_gols.index, format = '%d/%m/%Y')"
   ]
  },
  {
   "cell_type": "code",
   "execution_count": null,
   "id": "b3a1d341",
   "metadata": {},
   "outputs": [
    {
     "name": "stdout",
     "output_type": "stream",
     "text": [
      "DatetimeIndex(['2019-06-05', '2019-06-09', '2019-06-16', '2019-06-19',\n",
      "               '2019-06-23', '2019-06-27', '2019-06-30'],\n",
      "              dtype='datetime64[ns]', name='dia', freq=None)\n"
     ]
    }
   ],
   "source": [
    "print(serie_gols)"
   ]
  },
  {
   "cell_type": "markdown",
   "id": "dd831ca2",
   "metadata": {},
   "source": [
    "Método 'read_table()'"
   ]
  },
  {
   "cell_type": "code",
   "execution_count": null,
   "id": "559f5bf6",
   "metadata": {},
   "outputs": [
    {
     "name": "stdout",
     "output_type": "stream",
     "text": [
      "Package         Version\n",
      "--------------- -------\n",
      "et-xmlfile      1.1.0\n",
      "numpy           1.22.3\n",
      "openpyxl        3.0.9\n",
      "pandas          1.4.1\n",
      "pip             22.0.4\n",
      "python-dateutil 2.8.2\n",
      "pytz            2021.3\n",
      "six             1.16.0\n"
     ]
    }
   ],
   "source": [
    "!pip list"
   ]
  },
  {
   "cell_type": "code",
   "execution_count": null,
   "id": "4ff00bc5",
   "metadata": {},
   "outputs": [],
   "source": [
    "import pandas as pd"
   ]
  },
  {
   "cell_type": "code",
   "execution_count": null,
   "id": "1ac3c42a",
   "metadata": {},
   "outputs": [
    {
     "name": "stdout",
     "output_type": "stream",
     "text": [
      "Requirement already satisfied: openpyxl in c:\\users\\clldu\\appdata\\roaming\\python\\python39\\site-packages (3.0.9)\n",
      "Requirement already satisfied: et-xmlfile in c:\\users\\clldu\\appdata\\roaming\\python\\python39\\site-packages (from openpyxl) (1.1.0)\n"
     ]
    }
   ],
   "source": [
    "!pip install openpyxl"
   ]
  },
  {
   "cell_type": "code",
   "execution_count": null,
   "id": "d2b0464e",
   "metadata": {
    "scrolled": true
   },
   "outputs": [
    {
     "ename": "ImportError",
     "evalue": "Missing optional dependency 'openpyxl'.  Use pip or conda to install openpyxl.",
     "output_type": "error",
     "traceback": [
      "\u001b[1;31m---------------------------------------------------------------------------\u001b[0m",
      "\u001b[1;31mModuleNotFoundError\u001b[0m                       Traceback (most recent call last)",
      "File \u001b[1;32m~\\AppData\\Local\\Programs\\Python\\Python310\\lib\\site-packages\\pandas\\compat\\_optional.py:126\u001b[0m, in \u001b[0;36mimport_optional_dependency\u001b[1;34m(name, extra, errors, min_version)\u001b[0m\n\u001b[0;32m    125\u001b[0m \u001b[38;5;28;01mtry\u001b[39;00m:\n\u001b[1;32m--> 126\u001b[0m     module \u001b[38;5;241m=\u001b[39m \u001b[43mimportlib\u001b[49m\u001b[38;5;241;43m.\u001b[39;49m\u001b[43mimport_module\u001b[49m\u001b[43m(\u001b[49m\u001b[43mname\u001b[49m\u001b[43m)\u001b[49m\n\u001b[0;32m    127\u001b[0m \u001b[38;5;28;01mexcept\u001b[39;00m \u001b[38;5;167;01mImportError\u001b[39;00m:\n",
      "File \u001b[1;32m~\\AppData\\Local\\Programs\\Python\\Python310\\lib\\importlib\\__init__.py:126\u001b[0m, in \u001b[0;36mimport_module\u001b[1;34m(name, package)\u001b[0m\n\u001b[0;32m    125\u001b[0m         level \u001b[38;5;241m+\u001b[39m\u001b[38;5;241m=\u001b[39m \u001b[38;5;241m1\u001b[39m\n\u001b[1;32m--> 126\u001b[0m \u001b[38;5;28;01mreturn\u001b[39;00m \u001b[43m_bootstrap\u001b[49m\u001b[38;5;241;43m.\u001b[39;49m\u001b[43m_gcd_import\u001b[49m\u001b[43m(\u001b[49m\u001b[43mname\u001b[49m\u001b[43m[\u001b[49m\u001b[43mlevel\u001b[49m\u001b[43m:\u001b[49m\u001b[43m]\u001b[49m\u001b[43m,\u001b[49m\u001b[43m \u001b[49m\u001b[43mpackage\u001b[49m\u001b[43m,\u001b[49m\u001b[43m \u001b[49m\u001b[43mlevel\u001b[49m\u001b[43m)\u001b[49m\n",
      "File \u001b[1;32m<frozen importlib._bootstrap>:1050\u001b[0m, in \u001b[0;36m_gcd_import\u001b[1;34m(name, package, level)\u001b[0m\n",
      "File \u001b[1;32m<frozen importlib._bootstrap>:1027\u001b[0m, in \u001b[0;36m_find_and_load\u001b[1;34m(name, import_)\u001b[0m\n",
      "File \u001b[1;32m<frozen importlib._bootstrap>:1004\u001b[0m, in \u001b[0;36m_find_and_load_unlocked\u001b[1;34m(name, import_)\u001b[0m\n",
      "\u001b[1;31mModuleNotFoundError\u001b[0m: No module named 'openpyxl'",
      "\nDuring handling of the above exception, another exception occurred:\n",
      "\u001b[1;31mImportError\u001b[0m                               Traceback (most recent call last)",
      "Input \u001b[1;32mIn [5]\u001b[0m, in \u001b[0;36m<module>\u001b[1;34m\u001b[0m\n\u001b[1;32m----> 1\u001b[0m cidades \u001b[38;5;241m=\u001b[39m \u001b[43mpd\u001b[49m\u001b[38;5;241;43m.\u001b[39;49m\u001b[43mread_excel\u001b[49m\u001b[43m(\u001b[49m\u001b[38;5;124;43m\"\u001b[39;49m\u001b[38;5;124;43mcapitais.xlsx\u001b[39;49m\u001b[38;5;124;43m\"\u001b[39;49m\u001b[43m)\u001b[49m\n",
      "File \u001b[1;32m~\\AppData\\Local\\Programs\\Python\\Python310\\lib\\site-packages\\pandas\\util\\_decorators.py:311\u001b[0m, in \u001b[0;36mdeprecate_nonkeyword_arguments.<locals>.decorate.<locals>.wrapper\u001b[1;34m(*args, **kwargs)\u001b[0m\n\u001b[0;32m    305\u001b[0m \u001b[38;5;28;01mif\u001b[39;00m \u001b[38;5;28mlen\u001b[39m(args) \u001b[38;5;241m>\u001b[39m num_allow_args:\n\u001b[0;32m    306\u001b[0m     warnings\u001b[38;5;241m.\u001b[39mwarn(\n\u001b[0;32m    307\u001b[0m         msg\u001b[38;5;241m.\u001b[39mformat(arguments\u001b[38;5;241m=\u001b[39marguments),\n\u001b[0;32m    308\u001b[0m         \u001b[38;5;167;01mFutureWarning\u001b[39;00m,\n\u001b[0;32m    309\u001b[0m         stacklevel\u001b[38;5;241m=\u001b[39mstacklevel,\n\u001b[0;32m    310\u001b[0m     )\n\u001b[1;32m--> 311\u001b[0m \u001b[38;5;28;01mreturn\u001b[39;00m func(\u001b[38;5;241m*\u001b[39margs, \u001b[38;5;241m*\u001b[39m\u001b[38;5;241m*\u001b[39mkwargs)\n",
      "File \u001b[1;32m~\\AppData\\Local\\Programs\\Python\\Python310\\lib\\site-packages\\pandas\\io\\excel\\_base.py:457\u001b[0m, in \u001b[0;36mread_excel\u001b[1;34m(io, sheet_name, header, names, index_col, usecols, squeeze, dtype, engine, converters, true_values, false_values, skiprows, nrows, na_values, keep_default_na, na_filter, verbose, parse_dates, date_parser, thousands, decimal, comment, skipfooter, convert_float, mangle_dupe_cols, storage_options)\u001b[0m\n\u001b[0;32m    455\u001b[0m \u001b[38;5;28;01mif\u001b[39;00m \u001b[38;5;129;01mnot\u001b[39;00m \u001b[38;5;28misinstance\u001b[39m(io, ExcelFile):\n\u001b[0;32m    456\u001b[0m     should_close \u001b[38;5;241m=\u001b[39m \u001b[38;5;28;01mTrue\u001b[39;00m\n\u001b[1;32m--> 457\u001b[0m     io \u001b[38;5;241m=\u001b[39m \u001b[43mExcelFile\u001b[49m\u001b[43m(\u001b[49m\u001b[43mio\u001b[49m\u001b[43m,\u001b[49m\u001b[43m \u001b[49m\u001b[43mstorage_options\u001b[49m\u001b[38;5;241;43m=\u001b[39;49m\u001b[43mstorage_options\u001b[49m\u001b[43m,\u001b[49m\u001b[43m \u001b[49m\u001b[43mengine\u001b[49m\u001b[38;5;241;43m=\u001b[39;49m\u001b[43mengine\u001b[49m\u001b[43m)\u001b[49m\n\u001b[0;32m    458\u001b[0m \u001b[38;5;28;01melif\u001b[39;00m engine \u001b[38;5;129;01mand\u001b[39;00m engine \u001b[38;5;241m!=\u001b[39m io\u001b[38;5;241m.\u001b[39mengine:\n\u001b[0;32m    459\u001b[0m     \u001b[38;5;28;01mraise\u001b[39;00m \u001b[38;5;167;01mValueError\u001b[39;00m(\n\u001b[0;32m    460\u001b[0m         \u001b[38;5;124m\"\u001b[39m\u001b[38;5;124mEngine should not be specified when passing \u001b[39m\u001b[38;5;124m\"\u001b[39m\n\u001b[0;32m    461\u001b[0m         \u001b[38;5;124m\"\u001b[39m\u001b[38;5;124man ExcelFile - ExcelFile already has the engine set\u001b[39m\u001b[38;5;124m\"\u001b[39m\n\u001b[0;32m    462\u001b[0m     )\n",
      "File \u001b[1;32m~\\AppData\\Local\\Programs\\Python\\Python310\\lib\\site-packages\\pandas\\io\\excel\\_base.py:1419\u001b[0m, in \u001b[0;36mExcelFile.__init__\u001b[1;34m(self, path_or_buffer, engine, storage_options)\u001b[0m\n\u001b[0;32m   1416\u001b[0m \u001b[38;5;28mself\u001b[39m\u001b[38;5;241m.\u001b[39mengine \u001b[38;5;241m=\u001b[39m engine\n\u001b[0;32m   1417\u001b[0m \u001b[38;5;28mself\u001b[39m\u001b[38;5;241m.\u001b[39mstorage_options \u001b[38;5;241m=\u001b[39m storage_options\n\u001b[1;32m-> 1419\u001b[0m \u001b[38;5;28mself\u001b[39m\u001b[38;5;241m.\u001b[39m_reader \u001b[38;5;241m=\u001b[39m \u001b[38;5;28;43mself\u001b[39;49m\u001b[38;5;241;43m.\u001b[39;49m\u001b[43m_engines\u001b[49m\u001b[43m[\u001b[49m\u001b[43mengine\u001b[49m\u001b[43m]\u001b[49m\u001b[43m(\u001b[49m\u001b[38;5;28;43mself\u001b[39;49m\u001b[38;5;241;43m.\u001b[39;49m\u001b[43m_io\u001b[49m\u001b[43m,\u001b[49m\u001b[43m \u001b[49m\u001b[43mstorage_options\u001b[49m\u001b[38;5;241;43m=\u001b[39;49m\u001b[43mstorage_options\u001b[49m\u001b[43m)\u001b[49m\n",
      "File \u001b[1;32m~\\AppData\\Local\\Programs\\Python\\Python310\\lib\\site-packages\\pandas\\io\\excel\\_openpyxl.py:524\u001b[0m, in \u001b[0;36mOpenpyxlReader.__init__\u001b[1;34m(self, filepath_or_buffer, storage_options)\u001b[0m\n\u001b[0;32m    509\u001b[0m \u001b[38;5;28;01mdef\u001b[39;00m \u001b[38;5;21m__init__\u001b[39m(\n\u001b[0;32m    510\u001b[0m     \u001b[38;5;28mself\u001b[39m,\n\u001b[0;32m    511\u001b[0m     filepath_or_buffer: FilePath \u001b[38;5;241m|\u001b[39m ReadBuffer[\u001b[38;5;28mbytes\u001b[39m],\n\u001b[0;32m    512\u001b[0m     storage_options: StorageOptions \u001b[38;5;241m=\u001b[39m \u001b[38;5;28;01mNone\u001b[39;00m,\n\u001b[0;32m    513\u001b[0m ) \u001b[38;5;241m-\u001b[39m\u001b[38;5;241m>\u001b[39m \u001b[38;5;28;01mNone\u001b[39;00m:\n\u001b[0;32m    514\u001b[0m     \u001b[38;5;124;03m\"\"\"\u001b[39;00m\n\u001b[0;32m    515\u001b[0m \u001b[38;5;124;03m    Reader using openpyxl engine.\u001b[39;00m\n\u001b[0;32m    516\u001b[0m \n\u001b[1;32m   (...)\u001b[0m\n\u001b[0;32m    522\u001b[0m \u001b[38;5;124;03m        passed to fsspec for appropriate URLs (see ``_get_filepath_or_buffer``)\u001b[39;00m\n\u001b[0;32m    523\u001b[0m \u001b[38;5;124;03m    \"\"\"\u001b[39;00m\n\u001b[1;32m--> 524\u001b[0m     \u001b[43mimport_optional_dependency\u001b[49m\u001b[43m(\u001b[49m\u001b[38;5;124;43m\"\u001b[39;49m\u001b[38;5;124;43mopenpyxl\u001b[39;49m\u001b[38;5;124;43m\"\u001b[39;49m\u001b[43m)\u001b[49m\n\u001b[0;32m    525\u001b[0m     \u001b[38;5;28msuper\u001b[39m()\u001b[38;5;241m.\u001b[39m\u001b[38;5;21m__init__\u001b[39m(filepath_or_buffer, storage_options\u001b[38;5;241m=\u001b[39mstorage_options)\n",
      "File \u001b[1;32m~\\AppData\\Local\\Programs\\Python\\Python310\\lib\\site-packages\\pandas\\compat\\_optional.py:129\u001b[0m, in \u001b[0;36mimport_optional_dependency\u001b[1;34m(name, extra, errors, min_version)\u001b[0m\n\u001b[0;32m    127\u001b[0m \u001b[38;5;28;01mexcept\u001b[39;00m \u001b[38;5;167;01mImportError\u001b[39;00m:\n\u001b[0;32m    128\u001b[0m     \u001b[38;5;28;01mif\u001b[39;00m errors \u001b[38;5;241m==\u001b[39m \u001b[38;5;124m\"\u001b[39m\u001b[38;5;124mraise\u001b[39m\u001b[38;5;124m\"\u001b[39m:\n\u001b[1;32m--> 129\u001b[0m         \u001b[38;5;28;01mraise\u001b[39;00m \u001b[38;5;167;01mImportError\u001b[39;00m(msg)\n\u001b[0;32m    130\u001b[0m     \u001b[38;5;28;01melse\u001b[39;00m:\n\u001b[0;32m    131\u001b[0m         \u001b[38;5;28;01mreturn\u001b[39;00m \u001b[38;5;28;01mNone\u001b[39;00m\n",
      "\u001b[1;31mImportError\u001b[0m: Missing optional dependency 'openpyxl'.  Use pip or conda to install openpyxl."
     ]
    }
   ],
   "source": [
    "cidades = pd.read_excel(\"capitais.xlsx\")"
   ]
  },
  {
   "cell_type": "code",
   "execution_count": null,
   "id": "6c6242b5",
   "metadata": {},
   "outputs": [],
   "source": []
  }
 ],
 "metadata": {
  "kernelspec": {
   "display_name": "Python 3.10.5 ('venv': venv)",
   "language": "python",
   "name": "python3"
  },
  "language_info": {
   "codemirror_mode": {
    "name": "ipython",
    "version": 3
   },
   "file_extension": ".py",
   "mimetype": "text/x-python",
   "name": "python",
   "nbconvert_exporter": "python",
   "pygments_lexer": "ipython3",
   "version": "3.10.5"
  },
  "toc": {
   "base_numbering": 1,
   "nav_menu": {},
   "number_sections": true,
   "sideBar": true,
   "skip_h1_title": false,
   "title_cell": "Table of Contents",
   "title_sidebar": "Contents",
   "toc_cell": false,
   "toc_position": {},
   "toc_section_display": true,
   "toc_window_display": false
  },
  "varInspector": {
   "cols": {
    "lenName": 16,
    "lenType": 16,
    "lenVar": 40
   },
   "kernels_config": {
    "python": {
     "delete_cmd_postfix": "",
     "delete_cmd_prefix": "del ",
     "library": "var_list.py",
     "varRefreshCmd": "print(var_dic_list())"
    },
    "r": {
     "delete_cmd_postfix": ") ",
     "delete_cmd_prefix": "rm(",
     "library": "var_list.r",
     "varRefreshCmd": "cat(var_dic_list()) "
    }
   },
   "types_to_exclude": [
    "module",
    "function",
    "builtin_function_or_method",
    "instance",
    "_Feature"
   ],
   "window_display": false
  },
  "vscode": {
   "interpreter": {
    "hash": "93e1994ec101cebb012be5f2e226816b3548d8070b64d9333fcc4988318e1f29"
   }
  }
 },
 "nbformat": 4,
 "nbformat_minor": 5
}
