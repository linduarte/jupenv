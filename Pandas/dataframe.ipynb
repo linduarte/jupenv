{
 "cells": [
  {
   "cell_type": "code",
   "execution_count": 1,
   "id": "42ecacbb",
   "metadata": {},
   "outputs": [],
   "source": [
    "#P11: Hello DataFrame!\n",
    "import pandas as pd"
   ]
  },
  {
   "cell_type": "code",
   "execution_count": 2,
   "id": "477456f5",
   "metadata": {},
   "outputs": [
    {
     "name": "stdout",
     "output_type": "stream",
     "text": [
      "           nome continente  extensão  corVerde\n",
      "AR    Argentina    América      2780         0\n",
      "BR       Brasil    América      8511         1\n",
      "FR       França     Europa       644         0\n",
      "IT       Itália     Europa       301         1\n",
      "UK  Reino Unido     Europa       244         0\n"
     ]
    }
   ],
   "source": [
    "#Cria o DataFrame\n",
    "dados={'nome':['Argentina','Brasil','França','Itália','Reino Unido'],\n",
    "    'continente':['América','América','Europa','Europa','Europa'],'extensão':[2780,8511,644,301,244],\n",
    "            'corVerde':[0,1,0,1,0]\n",
    "      }        \n",
    "siglas=['AR','BR','FR','IT','UK'] \n",
    "paises=pd.DataFrame(dados,index=siglas)\n",
    "#imprime DataFrame\n",
    "print(paises)"
   ]
  },
  {
   "cell_type": "code",
   "execution_count": 3,
   "id": "9df59e4b",
   "metadata": {},
   "outputs": [
    {
     "data": {
      "text/plain": [
       "'Todo DataFrame é um objeto do tipo pandas.core.frame.DataFrame\\u200b \\nque possui as seguintes propriedades básicas: \\nshape: formato do DataFrame, ou seja, o seu número de linhas (\\u200b \\u200bshape[0]\\u200b \\u200b) e de colunas (\\u200b \\u200bshape[1]\\nindex: lista com os rótulos das linhas;\\ncolumns: lista com os rótulos das colunas; \\ndtypes: retorna uma Series com os \\u200b \\u200bdtypes\\u200b \\u200b de cada coluna;\\nindex.dtype: \\u200b \\u200bdtype\\u200b \\u200b dos rótulos das linhas.\\n'"
      ]
     },
     "execution_count": 3,
     "metadata": {},
     "output_type": "execute_result"
    }
   ],
   "source": [
    "\"\"\"Todo DataFrame é um objeto do tipo pandas.core.frame.DataFrame​ \n",
    "que possui as seguintes propriedades básicas: \n",
    "shape: formato do DataFrame, ou seja, o seu número de linhas (​ ​shape[0]​ ​) e de colunas (​ ​shape[1]\n",
    "index: lista com os rótulos das linhas;\n",
    "columns: lista com os rótulos das colunas; \n",
    "dtypes: retorna uma Series com os ​ ​dtypes​ ​ de cada coluna;\n",
    "index.dtype: ​ ​dtype​ ​ dos rótulos das linhas.\n",
    "\"\"\""
   ]
  },
  {
   "cell_type": "code",
   "execution_count": 4,
   "id": "c93f6cfc",
   "metadata": {},
   "outputs": [
    {
     "name": "stdout",
     "output_type": "stream",
     "text": [
      "--------------\n",
      "número de linhas: 5\n",
      "número de colunas: 4\n",
      "rótulos de linhas: Index(['AR', 'BR', 'FR', 'IT', 'UK'], dtype='object')\n",
      "rótulos de colunas: Index(['nome', 'continente', 'extensão', 'corVerde'], dtype='object')\n",
      "tipo(type):            nome continente  extensão  corVerde\n",
      "AR    Argentina    América      2780         0\n",
      "BR       Brasil    América      8511         1\n",
      "FR       França     Europa       644         0\n",
      "IT       Itália     Europa       301         1\n",
      "UK  Reino Unido     Europa       244         0\n",
      "dtypes das colunas:\n",
      " nome          object\n",
      "continente    object\n",
      "extensão       int64\n",
      "corVerde       int64\n",
      "dtype: object\n",
      "dtype dos rótulos das linhas: object\n"
     ]
    }
   ],
   "source": [
    "# Recupera e imprime as propriedades\n",
    "print('--------------')\n",
    "num_linhas=paises.shape[0]\n",
    "num_colunas=paises.shape[1]\n",
    "indices=paises.index\n",
    "colunas=paises.columns\n",
    "paises_tipo=type(paises)\n",
    "paises_dtypes=paises.dtypes\n",
    "paises_idx_dtype=paises.index.dtype\n",
    "\n",
    "print('número de linhas:',num_linhas)\n",
    "print('número de colunas:',num_colunas)\n",
    "print('rótulos de linhas:',indices)\n",
    "print('rótulos de colunas:',colunas)\n",
    "print('tipo(type):',paises)\n",
    "print('dtypes das colunas:\\n',paises_dtypes)\n",
    "print('dtype dos rótulos das linhas:',paises_idx_dtype)"
   ]
  },
  {
   "cell_type": "code",
   "execution_count": 5,
   "id": "bddb0994",
   "metadata": {},
   "outputs": [
    {
     "data": {
      "text/plain": [
       "'\\nAlgumas observações importantes: No vocabulário adotado pela pandas, \\no termo index é sempre utilizado para índices das linhas, \\nnquanto o termo column é utilizado para os índices das colunas.  \\nNão esqueça que a primeira coluna está na posição 0, a segunda, na posição 1 etc. \\nDa mesma forma, a primeira linha está na posição 0, a segunda, na posição 1 etc.\\n'"
      ]
     },
     "execution_count": 5,
     "metadata": {},
     "output_type": "execute_result"
    }
   ],
   "source": [
    "\"\"\"\n",
    "Algumas observações importantes: No vocabulário adotado pela pandas, \n",
    "o termo index é sempre utilizado para índices das linhas, \n",
    "nquanto o termo column é utilizado para os índices das colunas.  \n",
    "Não esqueça que a primeira coluna está na posição 0, a segunda, na posição 1 etc. \n",
    "Da mesma forma, a primeira linha está na posição 0, a segunda, na posição 1 etc.\n",
    "\"\"\""
   ]
  }
 ],
 "metadata": {
  "kernelspec": {
   "display_name": "Jupynew-VixoTI1o",
   "language": "python",
   "name": "python3"
  },
  "language_info": {
   "codemirror_mode": {
    "name": "ipython",
    "version": 3
   },
   "file_extension": ".py",
   "mimetype": "text/x-python",
   "name": "python",
   "nbconvert_exporter": "python",
   "pygments_lexer": "ipython3",
   "version": "3.11.1"
  },
  "toc": {
   "base_numbering": 1,
   "nav_menu": {},
   "number_sections": true,
   "sideBar": true,
   "skip_h1_title": false,
   "title_cell": "Table of Contents",
   "title_sidebar": "Contents",
   "toc_cell": false,
   "toc_position": {},
   "toc_section_display": true,
   "toc_window_display": false
  },
  "varInspector": {
   "cols": {
    "lenName": 16,
    "lenType": 16,
    "lenVar": 40
   },
   "kernels_config": {
    "python": {
     "delete_cmd_postfix": "",
     "delete_cmd_prefix": "del ",
     "library": "var_list.py",
     "varRefreshCmd": "print(var_dic_list())"
    },
    "r": {
     "delete_cmd_postfix": ") ",
     "delete_cmd_prefix": "rm(",
     "library": "var_list.r",
     "varRefreshCmd": "cat(var_dic_list()) "
    }
   },
   "types_to_exclude": [
    "module",
    "function",
    "builtin_function_or_method",
    "instance",
    "_Feature"
   ],
   "window_display": false
  },
  "vscode": {
   "interpreter": {
    "hash": "d0b2908d51918988df04a2b07a3931f261be293ad08eeaabcfe466584588fc8e"
   }
  }
 },
 "nbformat": 4,
 "nbformat_minor": 5
}
