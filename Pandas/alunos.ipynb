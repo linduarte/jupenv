{
 "cells": [
  {
   "cell_type": "markdown",
   "id": "8304e362",
   "metadata": {},
   "source": [
    "#P02: Propriedades básicas das Series"
   ]
  },
  {
   "cell_type": "code",
   "execution_count": 1,
   "id": "aa0a2e22",
   "metadata": {},
   "outputs": [],
   "source": [
    "import pandas as pd"
   ]
  },
  {
   "cell_type": "markdown",
   "id": "3542aa57",
   "metadata": {},
   "source": [
    "#cria a Series \"alunos\""
   ]
  },
  {
   "cell_type": "code",
   "execution_count": 2,
   "id": "e87da2bc",
   "metadata": {},
   "outputs": [],
   "source": [
    "alunos=pd.Series({'M02':'Bob','M05':'Dayse','M13':'Bill','M14':'Cris','M19':'Jimi'})"
   ]
  },
  {
   "cell_type": "markdown",
   "id": "cadf38c4",
   "metadata": {},
   "source": [
    "#atribui nomes para os vetores de dados e rótulos"
   ]
  },
  {
   "cell_type": "code",
   "execution_count": 3,
   "id": "1eecaff0",
   "metadata": {},
   "outputs": [],
   "source": [
    "alunos.name=\"alunos\"\n",
    "alunos.index.name=\"matrículas\"\n"
   ]
  },
  {
   "cell_type": "markdown",
   "id": "03e6396e",
   "metadata": {},
   "source": [
    "#recupera e imprime as propriedades"
   ]
  },
  {
   "cell_type": "code",
   "execution_count": 4,
   "id": "96d2ca76",
   "metadata": {
    "scrolled": false
   },
   "outputs": [
    {
     "name": "stdout",
     "output_type": "stream",
     "text": [
      "matrículas\n",
      "M02      Bob\n",
      "M05    Dayse\n",
      "M13     Bill\n",
      "M14     Cris\n",
      "M19     Jimi\n",
      "Name: alunos, dtype: object\n",
      "---------\n",
      "número de elementos: 5\n",
      "vetor de dados: ['Bob' 'Dayse' 'Bill' 'Cris' 'Jimi']\n",
      "vetor de rótulos: Index(['M02', 'M05', 'M13', 'M14', 'M19'], dtype='object', name='matrículas')\n",
      "tipo type: <class 'pandas.core.series.Series'>\n",
      "dtype da Series: object\n",
      "dtype do vetor de rótulos: object\n"
     ]
    }
   ],
   "source": [
    "print(alunos)\n",
    "print('---------')\n",
    "tamanho=alunos.size\n",
    "dados=alunos.values\n",
    "rotulos=alunos.index\n",
    "alunos_tipo=type(alunos)\n",
    "alunos_dtype=alunos.dtype\n",
    "alunos_idx_dtype=alunos.index.dtype\n",
    "\n",
    "print('número de elementos:', tamanho)\n",
    "print('vetor de dados:',dados)\n",
    "print('vetor de rótulos:',rotulos)\n",
    "print('tipo type:',alunos_tipo)\n",
    "print('dtype da Series:',alunos_dtype)\n",
    "print('dtype do vetor de rótulos:',alunos_idx_dtype)"
   ]
  },
  {
   "cell_type": "markdown",
   "id": "8e3b2f7c",
   "metadata": {},
   "source": [
    "#Técnicas para consulta e modificação de dados"
   ]
  },
  {
   "cell_type": "markdown",
   "id": "43b2b562",
   "metadata": {},
   "source": [
    "#Indexação tradicional - Recupera um elemento da series"
   ]
  },
  {
   "cell_type": "code",
   "execution_count": 5,
   "id": "49febb20",
   "metadata": {},
   "outputs": [
    {
     "data": {
      "text/plain": [
       "'Bob'"
      ]
     },
     "execution_count": 5,
     "metadata": {},
     "output_type": "execute_result"
    }
   ],
   "source": [
    "alunos[0]"
   ]
  },
  {
   "cell_type": "code",
   "execution_count": 6,
   "id": "fb579711",
   "metadata": {},
   "outputs": [
    {
     "data": {
      "text/plain": [
       "'Dayse'"
      ]
     },
     "execution_count": 6,
     "metadata": {},
     "output_type": "execute_result"
    }
   ],
   "source": [
    "alunos[1]"
   ]
  },
  {
   "cell_type": "code",
   "execution_count": 7,
   "id": "dd90dd6a",
   "metadata": {
    "scrolled": true
   },
   "outputs": [
    {
     "data": {
      "text/plain": [
       "'Cris'"
      ]
     },
     "execution_count": 7,
     "metadata": {},
     "output_type": "execute_result"
    }
   ],
   "source": [
    "alunos['M14']"
   ]
  },
  {
   "cell_type": "code",
   "execution_count": 8,
   "id": "e2c9d214",
   "metadata": {},
   "outputs": [
    {
     "data": {
      "text/plain": [
       "'Jimi'"
      ]
     },
     "execution_count": 8,
     "metadata": {},
     "output_type": "execute_result"
    }
   ],
   "source": [
    "alunos[alunos.size-1]"
   ]
  },
  {
   "cell_type": "code",
   "execution_count": 9,
   "id": "1d642fb1",
   "metadata": {
    "scrolled": true
   },
   "outputs": [
    {
     "data": {
      "text/plain": [
       "'Jimi'"
      ]
     },
     "execution_count": 9,
     "metadata": {},
     "output_type": "execute_result"
    }
   ],
   "source": [
    "alunos[-1]"
   ]
  },
  {
   "cell_type": "markdown",
   "id": "45c86f13",
   "metadata": {},
   "source": [
    "#Fatiamento (slicing) - Recupera mais de um elemento\n",
    "por intervalos (ranges) definidos por dois pontos ':' e por listas"
   ]
  },
  {
   "cell_type": "code",
   "execution_count": 10,
   "id": "56c831e3",
   "metadata": {},
   "outputs": [
    {
     "data": {
      "text/plain": [
       "matrículas\n",
       "M02      Bob\n",
       "M05    Dayse\n",
       "Name: alunos, dtype: object"
      ]
     },
     "execution_count": 10,
     "metadata": {},
     "output_type": "execute_result"
    }
   ],
   "source": [
    "alunos[0:2]"
   ]
  },
  {
   "cell_type": "code",
   "execution_count": 11,
   "id": "d97cdc5d",
   "metadata": {
    "scrolled": true
   },
   "outputs": [
    {
     "data": {
      "text/plain": [
       "matrículas\n",
       "M13    Bill\n",
       "M14    Cris\n",
       "Name: alunos, dtype: object"
      ]
     },
     "execution_count": 11,
     "metadata": {},
     "output_type": "execute_result"
    }
   ],
   "source": [
    "alunos[2:4]"
   ]
  },
  {
   "cell_type": "code",
   "execution_count": 12,
   "id": "69d2f0db",
   "metadata": {
    "scrolled": true
   },
   "outputs": [
    {
     "data": {
      "text/plain": [
       "matrículas\n",
       "M02      Bob\n",
       "M05    Dayse\n",
       "Name: alunos, dtype: object"
      ]
     },
     "execution_count": 12,
     "metadata": {},
     "output_type": "execute_result"
    }
   ],
   "source": [
    "alunos[:2]"
   ]
  },
  {
   "cell_type": "code",
   "execution_count": 13,
   "id": "131669ba",
   "metadata": {
    "scrolled": true
   },
   "outputs": [
    {
     "data": {
      "text/plain": [
       "matrículas\n",
       "M13    Bill\n",
       "M14    Cris\n",
       "M19    Jimi\n",
       "Name: alunos, dtype: object"
      ]
     },
     "execution_count": 13,
     "metadata": {},
     "output_type": "execute_result"
    }
   ],
   "source": [
    "alunos[2:]"
   ]
  },
  {
   "cell_type": "code",
   "execution_count": 14,
   "id": "b2f06bff",
   "metadata": {
    "scrolled": true
   },
   "outputs": [
    {
     "data": {
      "text/plain": [
       "matrículas\n",
       "M14    Cris\n",
       "M19    Jimi\n",
       "Name: alunos, dtype: object"
      ]
     },
     "execution_count": 14,
     "metadata": {},
     "output_type": "execute_result"
    }
   ],
   "source": [
    "alunos[-2:]"
   ]
  },
  {
   "cell_type": "code",
   "execution_count": 15,
   "id": "4064f05c",
   "metadata": {
    "scrolled": true
   },
   "outputs": [
    {
     "data": {
      "text/plain": [
       "matrículas\n",
       "M05    Dayse\n",
       "M14     Cris\n",
       "Name: alunos, dtype: object"
      ]
     },
     "execution_count": 15,
     "metadata": {},
     "output_type": "execute_result"
    }
   ],
   "source": [
    "alunos[1:5:2]"
   ]
  },
  {
   "cell_type": "code",
   "execution_count": 16,
   "id": "7606af34",
   "metadata": {},
   "outputs": [
    {
     "data": {
      "text/plain": [
       "matrículas\n",
       "M13    Bill\n",
       "M02     Bob\n",
       "M19    Jimi\n",
       "Name: alunos, dtype: object"
      ]
     },
     "execution_count": 16,
     "metadata": {},
     "output_type": "execute_result"
    }
   ],
   "source": [
    "alunos[[2,0,4]]"
   ]
  },
  {
   "cell_type": "markdown",
   "id": "32dc44d3",
   "metadata": {},
   "source": [
    "#Indexação booleana"
   ]
  },
  {
   "cell_type": "markdown",
   "id": "b3845491",
   "metadata": {},
   "source": [
    "#Cria a Series \"notas\" e \"alunos\""
   ]
  },
  {
   "cell_type": "code",
   "execution_count": 17,
   "id": "ccb04b46",
   "metadata": {},
   "outputs": [],
   "source": [
    "notas=pd.Series([7.5,5.0,8.5,9.5,6.4])\n",
    "alunos=pd.Series({'M02':'Bob','M05':'Dayse','M13':'Bill','M14':'Cris','M19':'Jimi'})"
   ]
  },
  {
   "cell_type": "code",
   "execution_count": 18,
   "id": "40a1e632",
   "metadata": {},
   "outputs": [],
   "source": [
    "#obtem os índices dos alunos aprovados\n",
    "idx_aprovados=notas[notas >= 7].index"
   ]
  },
  {
   "cell_type": "code",
   "execution_count": 19,
   "id": "9692de1b",
   "metadata": {
    "scrolled": false
   },
   "outputs": [
    {
     "name": "stdout",
     "output_type": "stream",
     "text": [
      "relação de alunos aprovados\n",
      "---------------\n",
      "M02     Bob\n",
      "M13    Bill\n",
      "M14    Cris\n",
      "dtype: object\n"
     ]
    }
   ],
   "source": [
    "#imprime os alunos aprovados\n",
    "print('relação de alunos aprovados')\n",
    "print('---------------')\n",
    "print(alunos[idx_aprovados])"
   ]
  },
  {
   "cell_type": "markdown",
   "id": "eb174ca6",
   "metadata": {},
   "source": [
    "#Busca - Verificar se determoados rótulos ou valores estão presentes em uma Series"
   ]
  },
  {
   "cell_type": "code",
   "execution_count": 20,
   "id": "2385cba9",
   "metadata": {},
   "outputs": [],
   "source": [
    "# Cria a Series \"alunos\"\n",
    "alunos=pd.Series({'M02':'Bob','M05':'Dayse','M13':'Bill','M14':'Cris','M19':'Jimi'})"
   ]
  },
  {
   "cell_type": "code",
   "execution_count": 21,
   "id": "b9763e1a",
   "metadata": {
    "scrolled": false
   },
   "outputs": [
    {
     "name": "stdout",
     "output_type": "stream",
     "text": [
      "existe o rótulo 'M13'? > True\n",
      "existe o rótulo 'M99'? > False\n",
      "------------------\n",
      "existe a valor 'Bob'\n",
      "M02     True\n",
      "M05    False\n",
      "M13    False\n",
      "M14    False\n",
      "M19    False\n",
      "dtype: bool\n"
     ]
    }
   ],
   "source": [
    "#teste se rótulos fazem parte de uma Series\n",
    "tem_M13='M13' in alunos # para um rótulo utiliza-se o \"in\" do Python\n",
    "tem_M99='M99' in alunos\n",
    "print(\"existe o rótulo 'M13'? >\",tem_M13 )\n",
    "print(\"existe o rótulo 'M99'? >\",tem_M99)\n",
    "print('------------------')\n",
    "\n",
    "# testa se valor faz parte de uma Series\n",
    "tem_Bob = alunos.isin(['Bob'])  # para valores em uma Series utiliza-se o método \"isin\" do Pandas\n",
    "print(\"existe a valor 'Bob'\")\n",
    "print(tem_Bob)"
   ]
  },
  {
   "cell_type": "markdown",
   "id": "2a8d454c",
   "metadata": {},
   "source": [
    "#Modificação - Inserir, modificar e excluir elementos de uma Series"
   ]
  },
  {
   "cell_type": "code",
   "execution_count": 22,
   "id": "086e982d",
   "metadata": {},
   "outputs": [],
   "source": [
    "alunos=pd.Series({'M02':'Bob','M05':'Dayse','M13':'Bill','M14':'Cris','M19':'Jimi'})"
   ]
  },
  {
   "cell_type": "code",
   "execution_count": 23,
   "id": "932583f2",
   "metadata": {},
   "outputs": [
    {
     "name": "stdout",
     "output_type": "stream",
     "text": [
      "Series original\n",
      "M02      Bob\n",
      "M05    Dayse\n",
      "M13     Bill\n",
      "M14     Cris\n",
      "M19     Jimi\n",
      "dtype: object\n"
     ]
    }
   ],
   "source": [
    "print('Series original')\n",
    "print(alunos)"
   ]
  },
  {
   "cell_type": "code",
   "execution_count": 24,
   "id": "780a59a9",
   "metadata": {},
   "outputs": [
    {
     "name": "stdout",
     "output_type": "stream",
     "text": [
      "----------------\n",
      "Series após alterações\n",
      "M05     Dayse\n",
      "M13     Billy\n",
      "M14    Cristy\n",
      "M19     Jimmy\n",
      "M55    Rakesh\n",
      "dtype: object\n"
     ]
    }
   ],
   "source": [
    "#insere o aluno de matrícula M55, Rakesh\n",
    "alunos['M55']='Rakesh'\n",
    "#alterar os nomes Bill, Cris e Jimi para Billy, Cristy e Jimmy\n",
    "alunos['M13']='Billy'\n",
    "alunos[['M14','M19']]=['Cristy','Jimmy']\n",
    "#remove o aluno de matrícula M02 (Bob)\n",
    "alunos=alunos.drop('M02')\n",
    "print('----------------')\n",
    "print('Series após alterações')\n",
    "print(alunos)\n",
    "\n"
   ]
  },
  {
   "cell_type": "markdown",
   "id": "c83ea210",
   "metadata": {},
   "source": [
    "#Modificação de índices - pode-se alterar os índices de uma Series, utilizando a propriedade 'index'"
   ]
  },
  {
   "cell_type": "code",
   "execution_count": 25,
   "id": "3fdc9cb1",
   "metadata": {},
   "outputs": [],
   "source": [
    "alunos.index=['M91','M92','M93','M94','M95']"
   ]
  },
  {
   "cell_type": "markdown",
   "id": "32eb3175",
   "metadata": {},
   "source": [
    "#Computação Vetorizada\n",
    "Utilizar a estrutura \"for...in\" para iterar sobre uma Series (percorrer de ponta a ponta o vetor de dados ou o de rótulos)"
   ]
  },
  {
   "cell_type": "code",
   "execution_count": 26,
   "id": "ffa8ba37",
   "metadata": {},
   "outputs": [
    {
     "name": "stdout",
     "output_type": "stream",
     "text": [
      "Dayse\n",
      "Billy\n",
      "Cristy\n",
      "Jimmy\n",
      "Rakesh\n",
      "M91\n",
      "M92\n",
      "M93\n",
      "M94\n",
      "M95\n"
     ]
    }
   ],
   "source": [
    "#itera sobre os dados (nomes dos alunos)\n",
    "for aluno in alunos:print(aluno)\n",
    "#itera sobre os índices (matrículas) \n",
    "for indice in alunos.index:print(indice)"
   ]
  },
  {
   "cell_type": "code",
   "execution_count": 27,
   "id": "27c37005",
   "metadata": {},
   "outputs": [],
   "source": [
    "#Operações aritiéticas com computação vetorizada\n",
    "import pandas as pd\n",
    "import numpy as np"
   ]
  },
  {
   "cell_type": "code",
   "execution_count": 28,
   "id": "7edc9298",
   "metadata": {
    "scrolled": true
   },
   "outputs": [
    {
     "name": "stdout",
     "output_type": "stream",
     "text": [
      "s1\n",
      "0    2\n",
      "1    4\n",
      "2    6\n",
      "dtype: int64\n",
      "s2\n",
      "0    1\n",
      "1    3\n",
      "2    5\n",
      "dtype: int64\n",
      "--------------\n",
      "s1*2\n",
      "0     4\n",
      "1     8\n",
      "2    12\n",
      "dtype: int64\n",
      "---------------\n",
      "0     3\n",
      "1     7\n",
      "2    11\n",
      "dtype: int64\n",
      "---------------\n",
      "raiz quadrada dos elementos de s1\n",
      "0    1.414214\n",
      "1    2.000000\n",
      "2    2.449490\n",
      "dtype: float64\n"
     ]
    }
   ],
   "source": [
    "#Cria a Series s1 e s2\n",
    "s1=pd.Series([2,4,6])\n",
    "s2=pd.Series([1,3,5])\n",
    "print('s1');print(s1)\n",
    "print('s2');print(s2)\n",
    "\n",
    "#efetua as operações aritméticas\n",
    "print('--------------')\n",
    "print('s1*2')\n",
    "print(s1*2)\n",
    "print('---------------')\n",
    "print(s1+s2)\n",
    "print('---------------')\n",
    "print('raiz quadrada dos elementos de s1')\n",
    "print(np.sqrt(s1)) # com a Numpy!\n"
   ]
  },
  {
   "cell_type": "markdown",
   "id": "81a00a4e",
   "metadata": {},
   "source": [
    "#Índices datetime"
   ]
  },
  {
   "cell_type": "code",
   "execution_count": 29,
   "id": "0921c1cf",
   "metadata": {},
   "outputs": [],
   "source": [
    "import pandas as pd"
   ]
  },
  {
   "cell_type": "code",
   "execution_count": 30,
   "id": "2a630a3c",
   "metadata": {},
   "outputs": [
    {
     "name": "stdout",
     "output_type": "stream",
     "text": [
      "10/02/2019    31\n",
      "11/02/2019    35\n",
      "12/02/2019    34\n",
      "13/02/2019    28\n",
      "14/02/2019    27\n",
      "15/02/2019    27\n",
      "dtype: int64\n"
     ]
    }
   ],
   "source": [
    "#(1) Cria a série temporal\n",
    "dias=['10/02/2019','11/02/2019','12/02/2019','13/02/2019','14/02/2019','15/02/2019']\n",
    "temp_max=[31,35,34,28,27,27]\n",
    "serie_temporal=pd.Series(temp_max,index=dias)\n",
    "#(2) Converte o tipo de índice para datetime e imprime a série\n",
    "serie_temporal.indexx=pd.to_datetime(serie_temporal.index,format='%d/%m/%Y')\n",
    "\n",
    "print(serie_temporal)\n"
   ]
  }
 ],
 "metadata": {
  "kernelspec": {
   "display_name": "Jupynew-VixoTI1o",
   "language": "python",
   "name": "python3"
  },
  "language_info": {
   "codemirror_mode": {
    "name": "ipython",
    "version": 3
   },
   "file_extension": ".py",
   "mimetype": "text/x-python",
   "name": "python",
   "nbconvert_exporter": "python",
   "pygments_lexer": "ipython3",
   "version": "3.11.1"
  },
  "toc": {
   "base_numbering": 1,
   "nav_menu": {},
   "number_sections": true,
   "sideBar": true,
   "skip_h1_title": false,
   "title_cell": "Table of Contents",
   "title_sidebar": "Contents",
   "toc_cell": false,
   "toc_position": {},
   "toc_section_display": true,
   "toc_window_display": false
  },
  "varInspector": {
   "cols": {
    "lenName": 16,
    "lenType": 16,
    "lenVar": 40
   },
   "kernels_config": {
    "python": {
     "delete_cmd_postfix": "",
     "delete_cmd_prefix": "del ",
     "library": "var_list.py",
     "varRefreshCmd": "print(var_dic_list())"
    },
    "r": {
     "delete_cmd_postfix": ") ",
     "delete_cmd_prefix": "rm(",
     "library": "var_list.r",
     "varRefreshCmd": "cat(var_dic_list()) "
    }
   },
   "types_to_exclude": [
    "module",
    "function",
    "builtin_function_or_method",
    "instance",
    "_Feature"
   ],
   "window_display": false
  },
  "vscode": {
   "interpreter": {
    "hash": "d0b2908d51918988df04a2b07a3931f261be293ad08eeaabcfe466584588fc8e"
   }
  }
 },
 "nbformat": 4,
 "nbformat_minor": 5
}
